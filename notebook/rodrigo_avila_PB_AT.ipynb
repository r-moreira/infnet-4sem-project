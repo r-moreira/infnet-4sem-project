{
 "cells": [
  {
   "cell_type": "markdown",
   "metadata": {},
   "source": [
    "# Infnet\n",
    "## Projeto de Bloco: Ciência de Dados Aplicada [24E3_5]\n",
    "### Aluno: Rodrigo Avila\n",
    "\n",
    "#### Para acessar o projeto no GIT Hub, clique [aqui](https://github.com/r-moreira/infnet-4sem-project-tp2)\n",
    "\n",
    "---"
   ]
  },
  {
   "cell_type": "code",
   "execution_count": 1,
   "metadata": {},
   "outputs": [
    {
     "name": "stdout",
     "output_type": "stream",
     "text": [
      "[NbConvertApp] Converting notebook rodrigo_avila_PB_AT.ipynb to webpdf\n",
      "[NbConvertApp] Building PDF\n",
      "[NbConvertApp] PDF successfully created\n",
      "[NbConvertApp] Writing 89179 bytes to rodrigo_avila_PB_AT.pdf\n"
     ]
    }
   ],
   "source": [
    "!jupyter nbconvert --to webpdf rodrigo_avila_PB_AT.ipynb"
   ]
  }
 ],
 "metadata": {
  "kernelspec": {
   "display_name": "Python 3",
   "language": "python",
   "name": "python3"
  },
  "language_info": {
   "codemirror_mode": {
    "name": "ipython",
    "version": 3
   },
   "file_extension": ".py",
   "mimetype": "text/x-python",
   "name": "python",
   "nbconvert_exporter": "python",
   "pygments_lexer": "ipython3",
   "version": "3.12.4"
  }
 },
 "nbformat": 4,
 "nbformat_minor": 2
}
