{
 "cells": [
  {
   "cell_type": "markdown",
   "metadata": {},
   "source": [
    "# Infnet\n",
    "## Projeto de Bloco: Ciência de Dados Aplicada [24E3_5]\n",
    "### Aluno: Rodrigo Avila\n",
    "\n",
    "#### Para acessar o projeto no GIT Hub, clique [aqui](https://github.com/r-moreira/infnet-4sem-project-tp2)\n",
    "\n",
    "---"
   ]
  },
  {
   "cell_type": "markdown",
   "metadata": {},
   "source": [
    "## Web Scrapping Genius.com\n",
    "A ideia é fazer o webscrapping de letras da banda Metallica no site genius.com\n",
    "\n",
    "Após analisar o site, a páginação é feita através de um scrolling infinito, ou seja, a cada vez que o usuário chega no final da página, mais músicas são carregadas.\n",
    "\n",
    "O que dificulta fazer o scrapping de todas as músicas, mas ao analisar a parte de network da página, percebi que a página faz requisições para uma API no backend utilizando paginação, por mais que o link não apareça na url.\n",
    "\n",
    "Exemplo de requisição para a API:\n",
    "```\n",
    "https://genius.com/api/artists/10662/songs?page=2&per_page=20&sort=popularity&text_format=html%2Cmarkdown\n",
    "```\n",
    "\n",
    "Dessa forma, descobri que a banda Metallica possui o ID 10662, e que a cada requisição, 20 músicas são retornadas, não sendo necessário realizar o crawler. (Porém, fiz para fins de exercício). É possível chamar o backend diretamente para obter as urls.\n",
    "\n",
    "Para obter as letras das música é necessário scrapping, pois não é disponibilizado pelas APIs, será feito um scrapping do album Master of Puppets, que possui 8 músicas, esse album é um bom exemplo, pois possui uma música instrumental, o que exige um tratamento diferenciado."
   ]
  },
  {
   "cell_type": "code",
   "execution_count": 20,
   "metadata": {},
   "outputs": [
    {
     "data": {
      "text/plain": [
       "['https://genius.com/Metallica-battery-lyrics',\n",
       " 'https://genius.com/Metallica-master-of-puppets-lyrics',\n",
       " 'https://genius.com/Metallica-the-thing-that-should-not-be-lyrics',\n",
       " 'https://genius.com/Metallica-welcome-home-sanitarium-lyrics',\n",
       " 'https://genius.com/Metallica-disposable-heroes-lyrics',\n",
       " 'https://genius.com/Metallica-leper-messiah-lyrics',\n",
       " 'https://genius.com/Metallica-orion-lyrics',\n",
       " 'https://genius.com/Metallica-damage-inc-lyrics']"
      ]
     },
     "execution_count": 20,
     "metadata": {},
     "output_type": "execute_result"
    }
   ],
   "source": [
    "import requests\n",
    "from bs4 import BeautifulSoup\n",
    "\n",
    "class GeniusAlbumSongsCrawler:\n",
    "    def __init__(self, album_url: str):\n",
    "        self.album_url = album_url\n",
    "        self._soup = None\n",
    "\n",
    "    @property\n",
    "    def soup(self) -> BeautifulSoup:\n",
    "        return self._soup\n",
    "\n",
    "    def fetch_page(self) -> BeautifulSoup:\n",
    "        response = requests.get(self.album_url)\n",
    "        response.raise_for_status()  \n",
    "        self._soup = BeautifulSoup(response.text, 'html.parser')\n",
    "        return self._soup\n",
    "\n",
    "    def extract_song_links(self) -> list:\n",
    "        if not self._soup:\n",
    "            raise ValueError(\"Soup not initialized. Call fetch_page() first.\")\n",
    "        \n",
    "        song_links = []\n",
    "        for link in self._soup.select('a.u-display_block'):\n",
    "            href = link.get('href')\n",
    "            if href:\n",
    "                song_links.append(href)\n",
    "        return song_links\n",
    "\n",
    "crawler = GeniusAlbumSongsCrawler('https://genius.com/albums/Metallica/Master-of-puppets')\n",
    "crawler.fetch_page()\n",
    "links = crawler.extract_song_links()\n",
    "links"
   ]
  },
  {
   "cell_type": "code",
   "execution_count": 38,
   "metadata": {},
   "outputs": [
    {
     "name": "stdout",
     "output_type": "stream",
     "text": [
      "Album Name: None\n",
      "Song Name: Iceman\n",
      "Artist Name: Albert Collins\n",
      "\n",
      "Lyrics:\n",
      "\n",
      "I'm your iceman, baby, ain't here to cool you down\n",
      "Yes I'm your iceman, ladies, you'll always know when I'm around\n",
      "I left Leona, Texas, to heat this coolest place in town\n",
      "\n",
      "Gonna play this old guitar, mix up some fire with my ice\n",
      "Yes, I'm gonna play this old guitar, light your fire with my ice\n",
      "Sometimes it sounds so good to me, I just might play it twice\n",
      "\n",
      "I'm your iceman, baby, call me Al, if you please\n",
      "\n",
      "I'm your iceman, baby, I'm so hot I'll probably freeze\n",
      "I'm gonna whip up a twister, turn tornados to a breeze\n",
      "\n",
      "Yes, I'm your iceman, baby\n",
      "\n",
      "Yes, I'm your iceman, people, fixin' fire with my ice\n",
      "I'm your iceman, ladies, I make it hot an' chill it right\n",
      "If you follow my instructions, my ice will last all night\n"
     ]
    }
   ],
   "source": [
    "import requests\n",
    "from bs4 import BeautifulSoup\n",
    "\n",
    "class GeniusSongLyricsScraper:\n",
    "    def __init__(self, song_url: str):\n",
    "        self.song_url = song_url\n",
    "        self._soup = None\n",
    "\n",
    "    @property\n",
    "    def soup(self) -> BeautifulSoup:\n",
    "        if not self._soup:\n",
    "            self.fetch_page()\n",
    "        return self._soup\n",
    "\n",
    "    def fetch_page(self) -> None:\n",
    "        response = requests.get(self.song_url)\n",
    "        response.raise_for_status() \n",
    "        self._soup = BeautifulSoup(response.text, 'html.parser')\n",
    "\n",
    "    def extract_lyrics(self) -> str | None:\n",
    "        instrumental_message = self.soup.select_one('div.LyricsPlaceholder__Message-uen8er-2')\n",
    "        if instrumental_message and 'This song is an instrumental' in instrumental_message.text:\n",
    "            return 'This song is an instrumental'\n",
    "        \n",
    "        lyrics_div = self.soup.select_one('div[class*=\"Lyrics__Container\"]')\n",
    "        if not lyrics_div:\n",
    "            return None\n",
    "        \n",
    "        lyrics = []\n",
    "        for element in lyrics_div.descendants:\n",
    "            if element.name == 'br':\n",
    "                lyrics.append('\\n')\n",
    "            elif isinstance(element, str):\n",
    "                lyrics.append(element)\n",
    "        \n",
    "        return ''.join(lyrics)\n",
    "\n",
    "    def extract_song_name(self) -> str | None:\n",
    "        song_name_span = self.soup.select_one('h1 span[class*=\"SongHeaderdesktop__HiddenMask\"]')\n",
    "        if not song_name_span:\n",
    "            return None\n",
    "        \n",
    "        return song_name_span.text\n",
    "    \n",
    "    def extract_album_name(self) -> str | None:\n",
    "        album_name_div = self.soup.select_one('div.HeaderArtistAndTracklistdesktop__Tracklist-sc-4vdeb8-2 a')\n",
    "        if not album_name_div:\n",
    "            return None\n",
    "        \n",
    "        return album_name_div.text.strip()\n",
    "    \n",
    "    def extract_artist_name(self) -> str | None:\n",
    "        artist_name_div = self.soup.select_one('div.HeaderArtistAndTracklistdesktop__ListArtists-sc-4vdeb8-1 a')\n",
    "        if not artist_name_div:\n",
    "            return None\n",
    "        \n",
    "        return artist_name_div.text.strip()\n",
    "\n",
    "# Example usage:\n",
    "scraper = GeniusSongLyricsScraper(\"https://genius.com/Albert-collins-iceman-lyrics\")\n",
    "lyrics = scraper.extract_lyrics()\n",
    "song_name = scraper.extract_song_name()\n",
    "album_name = scraper.extract_album_name()\n",
    "artist_name = scraper.extract_artist_name()\n",
    "\n",
    "print(f\"Album Name: {album_name}\")\n",
    "print(f\"Song Name: {song_name}\")\n",
    "print(f\"Artist Name: {artist_name}\\n\")\n",
    "print(f\"Lyrics:\\n\\n{lyrics}\")\n"
   ]
  },
  {
   "cell_type": "code",
   "execution_count": 3,
   "metadata": {},
   "outputs": [
    {
     "name": "stdout",
     "output_type": "stream",
     "text": [
      "Processing https://genius.com/Metallica-battery-lyrics\n",
      "Processing https://genius.com/Metallica-master-of-puppets-lyrics\n",
      "Processing https://genius.com/Metallica-the-thing-that-should-not-be-lyrics\n",
      "Processing https://genius.com/Metallica-welcome-home-sanitarium-lyrics\n",
      "Processing https://genius.com/Metallica-disposable-heroes-lyrics\n",
      "Processing https://genius.com/Metallica-leper-messiah-lyrics\n",
      "Processing https://genius.com/Metallica-orion-lyrics\n",
      "Processing https://genius.com/Metallica-damage-inc-lyrics\n",
      "Lyrics saved to ../data/processed/metallica_master_of_puppets_lyrics.csv\n"
     ]
    }
   ],
   "source": [
    "import json\n",
    "import csv\n",
    "from typing import Literal\n",
    "\n",
    "def save_genius_album_lyrics_to_file(\n",
    "    file_path: str,\n",
    "    album_url: str, \n",
    "    format: Literal['json', 'csv'] = 'csv'):\n",
    "    \n",
    "    crawler = GeniusAlbumSongsCrawler(album_url)\n",
    "    crawler.fetch_page()\n",
    "    song_links = crawler.extract_song_links()\n",
    "\n",
    "    songs_list = []\n",
    "\n",
    "    for song_url in song_links:\n",
    "        print(f\"Processing {song_url}\")\n",
    "        scraper = GeniusSongLyricsScraper(song_url)\n",
    "        scraper.fetch_page()\n",
    "        song_name = scraper.extract_song_name()\n",
    "        album_name = scraper.extract_album_name()\n",
    "        artist_name = scraper.extract_artist_name()\n",
    "        lyrics = scraper.extract_lyrics()\n",
    "        \n",
    "        song_info = {\n",
    "            'album_name': album_name,\n",
    "            'song_name': song_name,\n",
    "            'artist_name': artist_name,\n",
    "            'lyrics': lyrics\n",
    "        }\n",
    "        songs_list.append(song_info)\n",
    "\n",
    "    if format == 'json':\n",
    "        with open(file_path, 'w', encoding='utf-8') as json_file:\n",
    "            json.dump(songs_list, json_file, ensure_ascii=False, indent=4)\n",
    "    elif format == 'csv':\n",
    "        with open(file_path, 'w', encoding='utf-8', newline='') as csv_file:\n",
    "            writer = csv.DictWriter(csv_file, fieldnames=['album_name', 'song_name', 'artist_name', 'lyrics'])\n",
    "            writer.writeheader()\n",
    "            for song_info in songs_list:\n",
    "                writer.writerow(song_info)\n",
    "        \n",
    "    print(f\"Lyrics saved to {file_path}\")\n",
    "\n",
    "save_genius_album_lyrics_to_file(\n",
    "    '../data/processed/metallica_master_of_puppets_lyrics.csv',\n",
    "    'https://genius.com/albums/Metallica/Master-of-puppets',\n",
    "    'csv'\n",
    ")"
   ]
  },
  {
   "cell_type": "code",
   "execution_count": 8,
   "metadata": {},
   "outputs": [
    {
     "name": "stdout",
     "output_type": "stream",
     "text": [
      "Requirement already satisfied: requests in /Users/rodrigo/.pyenv/versions/3.12.4/lib/python3.12/site-packages (2.32.3)\n",
      "Requirement already satisfied: charset-normalizer<4,>=2 in /Users/rodrigo/.pyenv/versions/3.12.4/lib/python3.12/site-packages (from requests) (3.3.2)\n",
      "Requirement already satisfied: idna<4,>=2.5 in /Users/rodrigo/.pyenv/versions/3.12.4/lib/python3.12/site-packages (from requests) (3.8)\n",
      "Requirement already satisfied: urllib3<3,>=1.21.1 in /Users/rodrigo/.pyenv/versions/3.12.4/lib/python3.12/site-packages (from requests) (2.2.2)\n",
      "Requirement already satisfied: certifi>=2017.4.17 in /Users/rodrigo/.pyenv/versions/3.12.4/lib/python3.12/site-packages (from requests) (2024.8.30)\n",
      "\n",
      "\u001b[1m[\u001b[0m\u001b[34;49mnotice\u001b[0m\u001b[1;39;49m]\u001b[0m\u001b[39;49m A new release of pip is available: \u001b[0m\u001b[31;49m24.2\u001b[0m\u001b[39;49m -> \u001b[0m\u001b[32;49m24.3.1\u001b[0m\n",
      "\u001b[1m[\u001b[0m\u001b[34;49mnotice\u001b[0m\u001b[1;39;49m]\u001b[0m\u001b[39;49m To update, run: \u001b[0m\u001b[32;49mpip install --upgrade pip\u001b[0m\n",
      "Note: you may need to restart the kernel to use updated packages.\n"
     ]
    }
   ],
   "source": [
    "%pip install requests"
   ]
  },
  {
   "cell_type": "code",
   "execution_count": 4,
   "metadata": {},
   "outputs": [
    {
     "data": {
      "text/html": [
       "<div>\n",
       "<style scoped>\n",
       "    .dataframe tbody tr th:only-of-type {\n",
       "        vertical-align: middle;\n",
       "    }\n",
       "\n",
       "    .dataframe tbody tr th {\n",
       "        vertical-align: top;\n",
       "    }\n",
       "\n",
       "    .dataframe thead th {\n",
       "        text-align: right;\n",
       "    }\n",
       "</style>\n",
       "<table border=\"1\" class=\"dataframe\">\n",
       "  <thead>\n",
       "    <tr style=\"text-align: right;\">\n",
       "      <th></th>\n",
       "      <th>album_name</th>\n",
       "      <th>song_name</th>\n",
       "      <th>artist_name</th>\n",
       "      <th>lyrics</th>\n",
       "    </tr>\n",
       "  </thead>\n",
       "  <tbody>\n",
       "    <tr>\n",
       "      <th>0</th>\n",
       "      <td>Master of Puppets (Deluxe Box Set)</td>\n",
       "      <td>Battery</td>\n",
       "      <td>Metallica</td>\n",
       "      <td>[Verse 1]\\nLashing out the action, returning t...</td>\n",
       "    </tr>\n",
       "    <tr>\n",
       "      <th>1</th>\n",
       "      <td>Master of Puppets (Deluxe Box Set)</td>\n",
       "      <td>Master of Puppets</td>\n",
       "      <td>Metallica</td>\n",
       "      <td>[Verse 1]\\nEnd of passion play, crumbling away...</td>\n",
       "    </tr>\n",
       "    <tr>\n",
       "      <th>2</th>\n",
       "      <td>Master of Puppets (Deluxe Box Set)</td>\n",
       "      <td>The Thing That Should Not Be</td>\n",
       "      <td>Metallica</td>\n",
       "      <td>[Verse 1]\\nMessenger of fear in sight\\nDark de...</td>\n",
       "    </tr>\n",
       "    <tr>\n",
       "      <th>3</th>\n",
       "      <td>Master of Puppets (Deluxe Box Set)</td>\n",
       "      <td>Welcome Home (Sanitarium)</td>\n",
       "      <td>Metallica</td>\n",
       "      <td>[Verse 1]\\nWelcome to where time stands still\\...</td>\n",
       "    </tr>\n",
       "    <tr>\n",
       "      <th>4</th>\n",
       "      <td>Master of Puppets (Deluxe Box Set)</td>\n",
       "      <td>Disposable Heroes</td>\n",
       "      <td>Metallica</td>\n",
       "      <td>[Verse 1]\\nBodies fill the fields I see, hungr...</td>\n",
       "    </tr>\n",
       "  </tbody>\n",
       "</table>\n",
       "</div>"
      ],
      "text/plain": [
       "                           album_name                     song_name  \\\n",
       "0  Master of Puppets (Deluxe Box Set)                       Battery   \n",
       "1  Master of Puppets (Deluxe Box Set)             Master of Puppets   \n",
       "2  Master of Puppets (Deluxe Box Set)  The Thing That Should Not Be   \n",
       "3  Master of Puppets (Deluxe Box Set)     Welcome Home (Sanitarium)   \n",
       "4  Master of Puppets (Deluxe Box Set)             Disposable Heroes   \n",
       "\n",
       "  artist_name                                             lyrics  \n",
       "0   Metallica  [Verse 1]\\nLashing out the action, returning t...  \n",
       "1   Metallica  [Verse 1]\\nEnd of passion play, crumbling away...  \n",
       "2   Metallica  [Verse 1]\\nMessenger of fear in sight\\nDark de...  \n",
       "3   Metallica  [Verse 1]\\nWelcome to where time stands still\\...  \n",
       "4   Metallica  [Verse 1]\\nBodies fill the fields I see, hungr...  "
      ]
     },
     "execution_count": 4,
     "metadata": {},
     "output_type": "execute_result"
    }
   ],
   "source": [
    "import pandas as pd\n",
    "\n",
    "df = pd.read_csv('../data/processed/metallica_master_of_puppets_lyrics.csv')\n",
    "\n",
    "df.head()"
   ]
  },
  {
   "cell_type": "code",
   "execution_count": 5,
   "metadata": {},
   "outputs": [
    {
     "name": "stdout",
     "output_type": "stream",
     "text": [
      "Processing https://genius.com/Metallica-blackened-lyrics\n",
      "Processing https://genius.com/Metallica-and-justice-for-all-lyrics\n",
      "Processing https://genius.com/Metallica-eye-of-the-beholder-lyrics\n",
      "Processing https://genius.com/Metallica-one-lyrics\n",
      "Processing https://genius.com/Metallica-the-shortest-straw-lyrics\n",
      "Processing https://genius.com/Metallica-harvester-of-sorrow-lyrics\n",
      "Processing https://genius.com/Metallica-the-frayed-ends-of-sanity-lyrics\n",
      "Processing https://genius.com/Metallica-to-live-is-to-die-lyrics\n",
      "Processing https://genius.com/Metallica-dyers-eve-lyrics\n",
      "Lyrics saved to ../data/processed/metallica_and_justice_for_all_lyrics.csv\n"
     ]
    }
   ],
   "source": [
    "save_genius_album_lyrics_to_file(\n",
    "    '../data/processed/metallica_and_justice_for_all_lyrics.csv',\n",
    "    'https://genius.com/albums/Metallica/And-justice-for-all',\n",
    "    'csv'\n",
    ")"
   ]
  },
  {
   "cell_type": "code",
   "execution_count": 22,
   "metadata": {},
   "outputs": [
    {
     "name": "stdout",
     "output_type": "stream",
     "text": [
      "Processing https://genius.com/Guns-n-roses-welcome-to-the-jungle-lyrics\n",
      "Processing https://genius.com/Guns-n-roses-sweet-child-o-mine-lyrics\n",
      "Processing https://genius.com/Guns-n-roses-patience-lyrics\n",
      "Processing https://genius.com/Guns-n-roses-paradise-city-lyrics\n",
      "Processing https://genius.com/Guns-n-roses-knockin-on-heavens-door-lyrics\n",
      "Processing https://genius.com/Guns-n-roses-civil-war-lyrics\n",
      "Processing https://genius.com/Guns-n-roses-you-could-be-mine-lyrics\n",
      "Processing https://genius.com/Guns-n-roses-dont-cry-lyrics\n",
      "Processing https://genius.com/Guns-n-roses-november-rain-lyrics\n",
      "Processing https://genius.com/Guns-n-roses-live-and-let-die-lyrics\n",
      "Processing https://genius.com/Guns-n-roses-yesterdays-lyrics\n",
      "Processing https://genius.com/Guns-n-roses-aint-it-fun-lyrics\n",
      "Processing https://genius.com/Guns-n-roses-since-i-dont-have-you-lyrics\n",
      "Processing https://genius.com/Guns-n-roses-sympathy-for-the-devil-lyrics\n",
      "Lyrics saved to ../data/processed/guns_n_roses_ride_greatest_hits_lyrics.csv\n"
     ]
    }
   ],
   "source": [
    "save_genius_album_lyrics_to_file(\n",
    "    '../data/processed/guns_n_roses_ride_greatest_hits_lyrics.csv',\n",
    "    'https://genius.com/albums/Guns-n-roses/Greatest-hits',\n",
    "    'csv'\n",
    ")"
   ]
  },
  {
   "cell_type": "code",
   "execution_count": null,
   "metadata": {},
   "outputs": [],
   "source": [
    "!playwright install"
   ]
  },
  {
   "cell_type": "code",
   "execution_count": 1,
   "metadata": {},
   "outputs": [
    {
     "name": "stdout",
     "output_type": "stream",
     "text": [
      "[NbConvertApp] Converting notebook rodrigo_avila_PB_TP3.ipynb to webpdf\n",
      "[NbConvertApp] Building PDF\n",
      "[NbConvertApp] PDF successfully created\n",
      "[NbConvertApp] Writing 220267 bytes to rodrigo_avila_PB_TP3.pdf\n"
     ]
    }
   ],
   "source": [
    "#Exportando para PDF\n",
    "!jupyter nbconvert --to webpdf rodrigo_avila_PB_TP3.ipynb"
   ]
  },
  {
   "cell_type": "code",
   "execution_count": 6,
   "metadata": {},
   "outputs": [
    {
     "name": "stdout",
     "output_type": "stream",
     "text": [
      "Requirement already satisfied: requests in /Users/rodrigo/.pyenv/versions/3.12.4/lib/python3.12/site-packages (2.32.3)\n",
      "Requirement already satisfied: charset-normalizer<4,>=2 in /Users/rodrigo/.pyenv/versions/3.12.4/lib/python3.12/site-packages (from requests) (3.3.2)\n",
      "Requirement already satisfied: idna<4,>=2.5 in /Users/rodrigo/.pyenv/versions/3.12.4/lib/python3.12/site-packages (from requests) (3.8)\n",
      "Requirement already satisfied: urllib3<3,>=1.21.1 in /Users/rodrigo/.pyenv/versions/3.12.4/lib/python3.12/site-packages (from requests) (2.2.2)\n",
      "Requirement already satisfied: certifi>=2017.4.17 in /Users/rodrigo/.pyenv/versions/3.12.4/lib/python3.12/site-packages (from requests) (2024.8.30)\n",
      "\n",
      "\u001b[1m[\u001b[0m\u001b[34;49mnotice\u001b[0m\u001b[1;39;49m]\u001b[0m\u001b[39;49m A new release of pip is available: \u001b[0m\u001b[31;49m24.2\u001b[0m\u001b[39;49m -> \u001b[0m\u001b[32;49m24.3.1\u001b[0m\n",
      "\u001b[1m[\u001b[0m\u001b[34;49mnotice\u001b[0m\u001b[1;39;49m]\u001b[0m\u001b[39;49m To update, run: \u001b[0m\u001b[32;49mpip install --upgrade pip\u001b[0m\n",
      "Note: you may need to restart the kernel to use updated packages.\n"
     ]
    }
   ],
   "source": [
    "%pip install requests"
   ]
  },
  {
   "cell_type": "code",
   "execution_count": null,
   "metadata": {},
   "outputs": [
    {
     "data": {
      "text/plain": [
       "'Metallica'"
      ]
     },
     "execution_count": 13,
     "metadata": {},
     "output_type": "execute_result"
    }
   ],
   "source": [
    "import requests\n",
    "from typing import Dict\n",
    "\n",
    "\n",
    "def search_artist(artist: str) -> Dict:\n",
    "        url = f\"https://genius.com/api/search?q={artist}\"\n",
    "        \n",
    "        response = requests.get(url)  \n",
    "\n",
    "        response.raise_for_status()\n",
    "        \n",
    "        return response.json()\n"
   ]
  },
  {
   "cell_type": "code",
   "execution_count": 26,
   "metadata": {},
   "outputs": [
    {
     "data": {
      "text/plain": [
       "348886"
      ]
     },
     "execution_count": 26,
     "metadata": {},
     "output_type": "execute_result"
    }
   ],
   "source": [
    "artist = \"Albert Collins\"\n",
    "\n",
    "response_hits = search_artist(artist)['response']['hits']\n",
    "\n",
    "def get_artist_id(artist: str) -> int | None:\n",
    "    response_hits = search_artist(artist)['response']['hits']\n",
    "    for hit in response_hits:\n",
    "        if hit['result']['primary_artist']['name'].lower() == artist.lower() or artist.lower() in [name.lower() for name in hit['result']['artist_names']]:\n",
    "            artist_id = hit['result']['primary_artist']['id']\n",
    "            return artist_id\n",
    "    return None\n",
    "\n",
    "artist_id = get_artist_id(artist)\n",
    "artist_id"
   ]
  },
  {
   "cell_type": "code",
   "execution_count": 33,
   "metadata": {},
   "outputs": [],
   "source": [
    "def get_artist_song_lyrics_url(artist_id: int, song_name: str) -> str:\n",
    "    \n",
    "    page = 1\n",
    "    \n",
    "    while True:\n",
    "        url = f\"https://genius.com/api/artists/{artist_id}/songs?page={page}&per_page=50\"\n",
    "        \n",
    "        print(f\"Fetching page {page}...\")\n",
    "        \n",
    "        response = requests.get(url)\n",
    "        response.raise_for_status()\n",
    "        \n",
    "        print(f\"Page fetched. - {response.json()}\")\n",
    "        \n",
    "        if response.json()['response']['next_page'] is None:\n",
    "            break\n",
    "            \n",
    "        \n",
    "        songs = response.json()['response']['songs']\n",
    "        \n",
    "        for song in songs:\n",
    "            if song['title'].lower() == song_name.lower():\n",
    "                return song['url']\n",
    "        \n",
    "        page += 1"
   ]
  },
  {
   "cell_type": "code",
   "execution_count": 36,
   "metadata": {},
   "outputs": [
    {
     "name": "stdout",
     "output_type": "stream",
     "text": [
      "Fetching page 1...\n",
      "Page fetched. - {'meta': {'status': 200}, 'response': {'songs': [{'_type': 'song', 'annotation_count': 1, 'api_path': '/songs/1123123', 'artist_names': 'Albert Collins', 'full_title': 'A Good Fool Is Hard To Find by\\xa0Albert\\xa0Collins', 'header_image_thumbnail_url': 'https://images.genius.com/4c4fef8769bbba21dbcdd3bd643ee421.300x302x1.jpg', 'header_image_url': 'https://images.genius.com/4c4fef8769bbba21dbcdd3bd643ee421.500x503x1.jpg', 'id': 1123123, 'instrumental': False, 'lyrics_owner_id': 1549345, 'lyrics_state': 'complete', 'lyrics_updated_at': 1429646690, 'path': '/Albert-collins-a-good-fool-is-hard-to-find-lyrics', 'primary_artist_names': 'Albert Collins', 'pyongs_count': None, 'relationships_index_url': 'https://genius.com/Albert-collins-a-good-fool-is-hard-to-find-sample', 'release_date_components': None, 'release_date_for_display': None, 'release_date_with_abbreviated_month_for_display': None, 'song_art_image_thumbnail_url': 'https://images.genius.com/4c4fef8769bbba21dbcdd3bd643ee421.300x302x1.jpg', 'song_art_image_url': 'https://images.genius.com/4c4fef8769bbba21dbcdd3bd643ee421.500x503x1.jpg', 'stats': {'unreviewed_annotations': 0, 'hot': False}, 'title': 'A Good Fool Is Hard To Find', 'title_with_featured': 'A Good Fool Is Hard To Find', 'updated_by_human_at': 1692889445, 'url': 'https://genius.com/Albert-collins-a-good-fool-is-hard-to-find-lyrics', 'featured_artists': [], 'primary_artist': {'_type': 'artist', 'api_path': '/artists/348886', 'header_image_url': 'https://images.genius.com/ba0c3a900db35f9e8ec1ae49aca1a5c6.245x190x38.gif', 'id': 348886, 'image_url': 'https://images.genius.com/c30426dc7b18bddc8fd811ee9a41c70a.1000x1000x1.jpg', 'index_character': 'a', 'is_meme_verified': False, 'is_verified': False, 'name': 'Albert Collins', 'slug': 'Albert-collins', 'url': 'https://genius.com/artists/Albert-collins'}, 'primary_artists': [{'_type': 'artist', 'api_path': '/artists/348886', 'header_image_url': 'https://images.genius.com/ba0c3a900db35f9e8ec1ae49aca1a5c6.245x190x38.gif', 'id': 348886, 'image_url': 'https://images.genius.com/c30426dc7b18bddc8fd811ee9a41c70a.1000x1000x1.jpg', 'index_character': 'a', 'is_meme_verified': False, 'is_verified': False, 'name': 'Albert Collins', 'slug': 'Albert-collins', 'url': 'https://genius.com/artists/Albert-collins'}]}, {'_type': 'song', 'annotation_count': 1, 'api_path': '/songs/1238388', 'artist_names': 'Albert Collins', 'full_title': \"Ain't Got Time by\\xa0Albert\\xa0Collins\", 'header_image_thumbnail_url': 'https://images.genius.com/c30426dc7b18bddc8fd811ee9a41c70a.300x300x1.jpg', 'header_image_url': 'https://images.genius.com/c30426dc7b18bddc8fd811ee9a41c70a.1000x1000x1.jpg', 'id': 1238388, 'instrumental': False, 'lyrics_owner_id': 1549345, 'lyrics_state': 'complete', 'lyrics_updated_at': 1429714885, 'path': '/Albert-collins-aint-got-time-lyrics', 'primary_artist_names': 'Albert Collins', 'pyongs_count': None, 'relationships_index_url': 'https://genius.com/Albert-collins-aint-got-time-sample', 'release_date_components': None, 'release_date_for_display': None, 'release_date_with_abbreviated_month_for_display': None, 'song_art_image_thumbnail_url': 'https://images.genius.com/c30426dc7b18bddc8fd811ee9a41c70a.300x300x1.jpg', 'song_art_image_url': 'https://images.genius.com/c30426dc7b18bddc8fd811ee9a41c70a.1000x1000x1.jpg', 'stats': {'unreviewed_annotations': 0, 'hot': False}, 'title': 'Ain’t Got Time', 'title_with_featured': \"Ain't Got Time\", 'updated_by_human_at': 1479245085, 'url': 'https://genius.com/Albert-collins-aint-got-time-lyrics', 'featured_artists': [], 'primary_artist': {'_type': 'artist', 'api_path': '/artists/348886', 'header_image_url': 'https://images.genius.com/ba0c3a900db35f9e8ec1ae49aca1a5c6.245x190x38.gif', 'id': 348886, 'image_url': 'https://images.genius.com/c30426dc7b18bddc8fd811ee9a41c70a.1000x1000x1.jpg', 'index_character': 'a', 'is_meme_verified': False, 'is_verified': False, 'name': 'Albert Collins', 'slug': 'Albert-collins', 'url': 'https://genius.com/artists/Albert-collins'}, 'primary_artists': [{'_type': 'artist', 'api_path': '/artists/348886', 'header_image_url': 'https://images.genius.com/ba0c3a900db35f9e8ec1ae49aca1a5c6.245x190x38.gif', 'id': 348886, 'image_url': 'https://images.genius.com/c30426dc7b18bddc8fd811ee9a41c70a.1000x1000x1.jpg', 'index_character': 'a', 'is_meme_verified': False, 'is_verified': False, 'name': 'Albert Collins', 'slug': 'Albert-collins', 'url': 'https://genius.com/artists/Albert-collins'}]}, {'_type': 'song', 'annotation_count': 1, 'api_path': '/songs/2262612', 'artist_names': 'Albert Collins', 'full_title': \"Albert's Alley by\\xa0Albert\\xa0Collins\", 'header_image_thumbnail_url': 'https://images.genius.com/8909235b031e61f690b9a03f007de491.300x298x1.jpg', 'header_image_url': 'https://images.genius.com/8909235b031e61f690b9a03f007de491.482x479x1.jpg', 'id': 2262612, 'instrumental': True, 'lyrics_owner_id': 1549345, 'lyrics_state': 'complete', 'lyrics_updated_at': 1437741047, 'path': '/Albert-collins-alberts-alley-lyrics', 'primary_artist_names': 'Albert Collins', 'pyongs_count': None, 'relationships_index_url': 'https://genius.com/Albert-collins-alberts-alley-sample', 'release_date_components': None, 'release_date_for_display': None, 'release_date_with_abbreviated_month_for_display': None, 'song_art_image_thumbnail_url': 'https://images.genius.com/8909235b031e61f690b9a03f007de491.300x298x1.jpg', 'song_art_image_url': 'https://images.genius.com/8909235b031e61f690b9a03f007de491.482x479x1.jpg', 'stats': {'unreviewed_annotations': 0, 'hot': False}, 'title': 'Albert’s Alley', 'title_with_featured': \"Albert's Alley\", 'updated_by_human_at': 1481235962, 'url': 'https://genius.com/Albert-collins-alberts-alley-lyrics', 'featured_artists': [], 'primary_artist': {'_type': 'artist', 'api_path': '/artists/348886', 'header_image_url': 'https://images.genius.com/ba0c3a900db35f9e8ec1ae49aca1a5c6.245x190x38.gif', 'id': 348886, 'image_url': 'https://images.genius.com/c30426dc7b18bddc8fd811ee9a41c70a.1000x1000x1.jpg', 'index_character': 'a', 'is_meme_verified': False, 'is_verified': False, 'name': 'Albert Collins', 'slug': 'Albert-collins', 'url': 'https://genius.com/artists/Albert-collins'}, 'primary_artists': [{'_type': 'artist', 'api_path': '/artists/348886', 'header_image_url': 'https://images.genius.com/ba0c3a900db35f9e8ec1ae49aca1a5c6.245x190x38.gif', 'id': 348886, 'image_url': 'https://images.genius.com/c30426dc7b18bddc8fd811ee9a41c70a.1000x1000x1.jpg', 'index_character': 'a', 'is_meme_verified': False, 'is_verified': False, 'name': 'Albert Collins', 'slug': 'Albert-collins', 'url': 'https://genius.com/artists/Albert-collins'}]}, {'_type': 'song', 'annotation_count': 1, 'api_path': '/songs/1443616', 'artist_names': 'Albert Collins', 'full_title': 'All About My Girl by\\xa0Albert\\xa0Collins', 'header_image_thumbnail_url': 'https://images.genius.com/c30426dc7b18bddc8fd811ee9a41c70a.300x300x1.jpg', 'header_image_url': 'https://images.genius.com/c30426dc7b18bddc8fd811ee9a41c70a.1000x1000x1.jpg', 'id': 1443616, 'instrumental': False, 'lyrics_owner_id': 1549345, 'lyrics_state': 'complete', 'lyrics_updated_at': 1429847063, 'path': '/Albert-collins-all-about-my-girl-lyrics', 'primary_artist_names': 'Albert Collins', 'pyongs_count': None, 'relationships_index_url': 'https://genius.com/Albert-collins-all-about-my-girl-sample', 'release_date_components': None, 'release_date_for_display': None, 'release_date_with_abbreviated_month_for_display': None, 'song_art_image_thumbnail_url': 'https://images.genius.com/c30426dc7b18bddc8fd811ee9a41c70a.300x300x1.jpg', 'song_art_image_url': 'https://images.genius.com/c30426dc7b18bddc8fd811ee9a41c70a.1000x1000x1.jpg', 'stats': {'unreviewed_annotations': 0, 'hot': False}, 'title': 'All About My Girl', 'title_with_featured': 'All About My Girl', 'updated_by_human_at': 1477006198, 'url': 'https://genius.com/Albert-collins-all-about-my-girl-lyrics', 'featured_artists': [], 'primary_artist': {'_type': 'artist', 'api_path': '/artists/348886', 'header_image_url': 'https://images.genius.com/ba0c3a900db35f9e8ec1ae49aca1a5c6.245x190x38.gif', 'id': 348886, 'image_url': 'https://images.genius.com/c30426dc7b18bddc8fd811ee9a41c70a.1000x1000x1.jpg', 'index_character': 'a', 'is_meme_verified': False, 'is_verified': False, 'name': 'Albert Collins', 'slug': 'Albert-collins', 'url': 'https://genius.com/artists/Albert-collins'}, 'primary_artists': [{'_type': 'artist', 'api_path': '/artists/348886', 'header_image_url': 'https://images.genius.com/ba0c3a900db35f9e8ec1ae49aca1a5c6.245x190x38.gif', 'id': 348886, 'image_url': 'https://images.genius.com/c30426dc7b18bddc8fd811ee9a41c70a.1000x1000x1.jpg', 'index_character': 'a', 'is_meme_verified': False, 'is_verified': False, 'name': 'Albert Collins', 'slug': 'Albert-collins', 'url': 'https://genius.com/artists/Albert-collins'}]}, {'_type': 'song', 'annotation_count': 1, 'api_path': '/songs/1177601', 'artist_names': 'Albert Collins', 'full_title': 'Angel of Mercy by\\xa0Albert\\xa0Collins', 'header_image_thumbnail_url': 'https://images.genius.com/c30426dc7b18bddc8fd811ee9a41c70a.300x300x1.jpg', 'header_image_url': 'https://images.genius.com/c30426dc7b18bddc8fd811ee9a41c70a.1000x1000x1.jpg', 'id': 1177601, 'instrumental': False, 'lyrics_owner_id': 1549345, 'lyrics_state': 'complete', 'lyrics_updated_at': 1429682530, 'path': '/Albert-collins-angel-of-mercy-lyrics', 'primary_artist_names': 'Albert Collins', 'pyongs_count': None, 'relationships_index_url': 'https://genius.com/Albert-collins-angel-of-mercy-sample', 'release_date_components': None, 'release_date_for_display': None, 'release_date_with_abbreviated_month_for_display': None, 'song_art_image_thumbnail_url': 'https://images.genius.com/c30426dc7b18bddc8fd811ee9a41c70a.300x300x1.jpg', 'song_art_image_url': 'https://images.genius.com/c30426dc7b18bddc8fd811ee9a41c70a.1000x1000x1.jpg', 'stats': {'unreviewed_annotations': 0, 'hot': False}, 'title': 'Angel of Mercy', 'title_with_featured': 'Angel of Mercy', 'updated_by_human_at': 1437429143, 'url': 'https://genius.com/Albert-collins-angel-of-mercy-lyrics', 'featured_artists': [], 'primary_artist': {'_type': 'artist', 'api_path': '/artists/348886', 'header_image_url': 'https://images.genius.com/ba0c3a900db35f9e8ec1ae49aca1a5c6.245x190x38.gif', 'id': 348886, 'image_url': 'https://images.genius.com/c30426dc7b18bddc8fd811ee9a41c70a.1000x1000x1.jpg', 'index_character': 'a', 'is_meme_verified': False, 'is_verified': False, 'name': 'Albert Collins', 'slug': 'Albert-collins', 'url': 'https://genius.com/artists/Albert-collins'}, 'primary_artists': [{'_type': 'artist', 'api_path': '/artists/348886', 'header_image_url': 'https://images.genius.com/ba0c3a900db35f9e8ec1ae49aca1a5c6.245x190x38.gif', 'id': 348886, 'image_url': 'https://images.genius.com/c30426dc7b18bddc8fd811ee9a41c70a.1000x1000x1.jpg', 'index_character': 'a', 'is_meme_verified': False, 'is_verified': False, 'name': 'Albert Collins', 'slug': 'Albert-collins', 'url': 'https://genius.com/artists/Albert-collins'}]}, {'_type': 'song', 'annotation_count': 0, 'api_path': '/songs/4203763', 'artist_names': 'Albert Collins', 'full_title': 'Avalanche by\\xa0Albert\\xa0Collins', 'header_image_thumbnail_url': 'https://images.genius.com/9d0b08d8d63dfbf7c32d8af3210a2fa6.300x293x1.jpg', 'header_image_url': 'https://images.genius.com/9d0b08d8d63dfbf7c32d8af3210a2fa6.561x547x1.jpg', 'id': 4203763, 'instrumental': True, 'lyrics_owner_id': 4124339, 'lyrics_state': 'complete', 'lyrics_updated_at': 1547085289, 'path': '/Albert-collins-avalanche-lyrics', 'primary_artist_names': 'Albert Collins', 'pyongs_count': None, 'relationships_index_url': 'https://genius.com/Albert-collins-avalanche-sample', 'release_date_components': None, 'release_date_for_display': None, 'release_date_with_abbreviated_month_for_display': None, 'song_art_image_thumbnail_url': 'https://images.genius.com/9d0b08d8d63dfbf7c32d8af3210a2fa6.300x293x1.jpg', 'song_art_image_url': 'https://images.genius.com/9d0b08d8d63dfbf7c32d8af3210a2fa6.561x547x1.jpg', 'stats': {'unreviewed_annotations': 0, 'hot': False}, 'title': 'Avalanche', 'title_with_featured': 'Avalanche', 'updated_by_human_at': 1547085289, 'url': 'https://genius.com/Albert-collins-avalanche-lyrics', 'featured_artists': [], 'primary_artist': {'_type': 'artist', 'api_path': '/artists/348886', 'header_image_url': 'https://images.genius.com/ba0c3a900db35f9e8ec1ae49aca1a5c6.245x190x38.gif', 'id': 348886, 'image_url': 'https://images.genius.com/c30426dc7b18bddc8fd811ee9a41c70a.1000x1000x1.jpg', 'index_character': 'a', 'is_meme_verified': False, 'is_verified': False, 'name': 'Albert Collins', 'slug': 'Albert-collins', 'url': 'https://genius.com/artists/Albert-collins'}, 'primary_artists': [{'_type': 'artist', 'api_path': '/artists/348886', 'header_image_url': 'https://images.genius.com/ba0c3a900db35f9e8ec1ae49aca1a5c6.245x190x38.gif', 'id': 348886, 'image_url': 'https://images.genius.com/c30426dc7b18bddc8fd811ee9a41c70a.1000x1000x1.jpg', 'index_character': 'a', 'is_meme_verified': False, 'is_verified': False, 'name': 'Albert Collins', 'slug': 'Albert-collins', 'url': 'https://genius.com/artists/Albert-collins'}]}, {'_type': 'song', 'annotation_count': 1, 'api_path': '/songs/1168913', 'artist_names': 'Albert Collins', 'full_title': 'Baby What You Want Me to Do / Rock Me Baby by\\xa0Albert\\xa0Collins', 'header_image_thumbnail_url': 'https://images.genius.com/8db1dc3200428fb15e113b31691d49a5.170x170x1.jpg', 'header_image_url': 'https://images.genius.com/8db1dc3200428fb15e113b31691d49a5.170x170x1.jpg', 'id': 1168913, 'instrumental': False, 'lyrics_owner_id': 1549345, 'lyrics_state': 'complete', 'lyrics_updated_at': 1429678761, 'path': '/Albert-collins-baby-what-you-want-me-to-do-rock-me-baby-lyrics', 'primary_artist_names': 'Albert Collins', 'pyongs_count': None, 'relationships_index_url': 'https://genius.com/Albert-collins-baby-what-you-want-me-to-do-rock-me-baby-sample', 'release_date_components': None, 'release_date_for_display': None, 'release_date_with_abbreviated_month_for_display': None, 'song_art_image_thumbnail_url': 'https://images.genius.com/8db1dc3200428fb15e113b31691d49a5.170x170x1.jpg', 'song_art_image_url': 'https://images.genius.com/8db1dc3200428fb15e113b31691d49a5.170x170x1.jpg', 'stats': {'unreviewed_annotations': 0, 'hot': False}, 'title': 'Baby What You Want Me to Do / Rock Me Baby', 'title_with_featured': 'Baby What You Want Me to Do / Rock Me Baby', 'updated_by_human_at': 1479143326, 'url': 'https://genius.com/Albert-collins-baby-what-you-want-me-to-do-rock-me-baby-lyrics', 'featured_artists': [], 'primary_artist': {'_type': 'artist', 'api_path': '/artists/348886', 'header_image_url': 'https://images.genius.com/ba0c3a900db35f9e8ec1ae49aca1a5c6.245x190x38.gif', 'id': 348886, 'image_url': 'https://images.genius.com/c30426dc7b18bddc8fd811ee9a41c70a.1000x1000x1.jpg', 'index_character': 'a', 'is_meme_verified': False, 'is_verified': False, 'name': 'Albert Collins', 'slug': 'Albert-collins', 'url': 'https://genius.com/artists/Albert-collins'}, 'primary_artists': [{'_type': 'artist', 'api_path': '/artists/348886', 'header_image_url': 'https://images.genius.com/ba0c3a900db35f9e8ec1ae49aca1a5c6.245x190x38.gif', 'id': 348886, 'image_url': 'https://images.genius.com/c30426dc7b18bddc8fd811ee9a41c70a.1000x1000x1.jpg', 'index_character': 'a', 'is_meme_verified': False, 'is_verified': False, 'name': 'Albert Collins', 'slug': 'Albert-collins', 'url': 'https://genius.com/artists/Albert-collins'}]}, {'_type': 'song', 'annotation_count': 1, 'api_path': '/songs/1325133', 'artist_names': 'Albert Collins', 'full_title': 'Bending Like A Willow Tree by\\xa0Albert\\xa0Collins', 'header_image_thumbnail_url': 'https://images.genius.com/4c4fef8769bbba21dbcdd3bd643ee421.300x302x1.jpg', 'header_image_url': 'https://images.genius.com/4c4fef8769bbba21dbcdd3bd643ee421.500x503x1.jpg', 'id': 1325133, 'instrumental': False, 'lyrics_owner_id': 8365560, 'lyrics_state': 'complete', 'lyrics_updated_at': 1665668108, 'path': '/Albert-collins-bending-like-a-willow-tree-lyrics', 'primary_artist_names': 'Albert Collins', 'pyongs_count': None, 'relationships_index_url': 'https://genius.com/Albert-collins-bending-like-a-willow-tree-sample', 'release_date_components': None, 'release_date_for_display': None, 'release_date_with_abbreviated_month_for_display': None, 'song_art_image_thumbnail_url': 'https://images.genius.com/4c4fef8769bbba21dbcdd3bd643ee421.300x302x1.jpg', 'song_art_image_url': 'https://images.genius.com/4c4fef8769bbba21dbcdd3bd643ee421.500x503x1.jpg', 'stats': {'unreviewed_annotations': 0, 'hot': False}, 'title': 'Bending Like A Willow Tree', 'title_with_featured': 'Bending Like A Willow Tree', 'updated_by_human_at': 1665668108, 'url': 'https://genius.com/Albert-collins-bending-like-a-willow-tree-lyrics', 'featured_artists': [], 'primary_artist': {'_type': 'artist', 'api_path': '/artists/348886', 'header_image_url': 'https://images.genius.com/ba0c3a900db35f9e8ec1ae49aca1a5c6.245x190x38.gif', 'id': 348886, 'image_url': 'https://images.genius.com/c30426dc7b18bddc8fd811ee9a41c70a.1000x1000x1.jpg', 'index_character': 'a', 'is_meme_verified': False, 'is_verified': False, 'name': 'Albert Collins', 'slug': 'Albert-collins', 'url': 'https://genius.com/artists/Albert-collins'}, 'primary_artists': [{'_type': 'artist', 'api_path': '/artists/348886', 'header_image_url': 'https://images.genius.com/ba0c3a900db35f9e8ec1ae49aca1a5c6.245x190x38.gif', 'id': 348886, 'image_url': 'https://images.genius.com/c30426dc7b18bddc8fd811ee9a41c70a.1000x1000x1.jpg', 'index_character': 'a', 'is_meme_verified': False, 'is_verified': False, 'name': 'Albert Collins', 'slug': 'Albert-collins', 'url': 'https://genius.com/artists/Albert-collins'}]}, {'_type': 'song', 'annotation_count': 1, 'api_path': '/songs/1505232', 'artist_names': 'Albert Collins', 'full_title': 'Black Cat Bone by\\xa0Albert\\xa0Collins', 'header_image_thumbnail_url': 'https://images.genius.com/8909235b031e61f690b9a03f007de491.300x298x1.jpg', 'header_image_url': 'https://images.genius.com/8909235b031e61f690b9a03f007de491.482x479x1.jpg', 'id': 1505232, 'instrumental': False, 'lyrics_owner_id': 1549345, 'lyrics_state': 'complete', 'lyrics_updated_at': 1429892709, 'path': '/Albert-collins-black-cat-bone-lyrics', 'primary_artist_names': 'Albert Collins', 'pyongs_count': None, 'relationships_index_url': 'https://genius.com/Albert-collins-black-cat-bone-sample', 'release_date_components': None, 'release_date_for_display': None, 'release_date_with_abbreviated_month_for_display': None, 'song_art_image_thumbnail_url': 'https://images.genius.com/8909235b031e61f690b9a03f007de491.300x298x1.jpg', 'song_art_image_url': 'https://images.genius.com/8909235b031e61f690b9a03f007de491.482x479x1.jpg', 'stats': {'unreviewed_annotations': 0, 'hot': False, 'pageviews': 6838}, 'title': 'Black Cat Bone', 'title_with_featured': 'Black Cat Bone', 'updated_by_human_at': 1481918832, 'url': 'https://genius.com/Albert-collins-black-cat-bone-lyrics', 'featured_artists': [], 'primary_artist': {'_type': 'artist', 'api_path': '/artists/348886', 'header_image_url': 'https://images.genius.com/ba0c3a900db35f9e8ec1ae49aca1a5c6.245x190x38.gif', 'id': 348886, 'image_url': 'https://images.genius.com/c30426dc7b18bddc8fd811ee9a41c70a.1000x1000x1.jpg', 'index_character': 'a', 'is_meme_verified': False, 'is_verified': False, 'name': 'Albert Collins', 'slug': 'Albert-collins', 'url': 'https://genius.com/artists/Albert-collins'}, 'primary_artists': [{'_type': 'artist', 'api_path': '/artists/348886', 'header_image_url': 'https://images.genius.com/ba0c3a900db35f9e8ec1ae49aca1a5c6.245x190x38.gif', 'id': 348886, 'image_url': 'https://images.genius.com/c30426dc7b18bddc8fd811ee9a41c70a.1000x1000x1.jpg', 'index_character': 'a', 'is_meme_verified': False, 'is_verified': False, 'name': 'Albert Collins', 'slug': 'Albert-collins', 'url': 'https://genius.com/artists/Albert-collins'}]}, {'_type': 'song', 'annotation_count': 1, 'api_path': '/songs/1828315', 'artist_names': 'Albert Collins', 'full_title': 'Blackjack by\\xa0Albert\\xa0Collins', 'header_image_thumbnail_url': 'https://images.genius.com/8909235b031e61f690b9a03f007de491.300x298x1.jpg', 'header_image_url': 'https://images.genius.com/8909235b031e61f690b9a03f007de491.482x479x1.jpg', 'id': 1828315, 'instrumental': False, 'lyrics_owner_id': 1549345, 'lyrics_state': 'complete', 'lyrics_updated_at': 1431623302, 'path': '/Albert-collins-blackjack-lyrics', 'primary_artist_names': 'Albert Collins', 'pyongs_count': None, 'relationships_index_url': 'https://genius.com/Albert-collins-blackjack-sample', 'release_date_components': None, 'release_date_for_display': None, 'release_date_with_abbreviated_month_for_display': None, 'song_art_image_thumbnail_url': 'https://images.genius.com/8909235b031e61f690b9a03f007de491.300x298x1.jpg', 'song_art_image_url': 'https://images.genius.com/8909235b031e61f690b9a03f007de491.482x479x1.jpg', 'stats': {'unreviewed_annotations': 0, 'hot': False}, 'title': 'Blackjack', 'title_with_featured': 'Blackjack', 'updated_by_human_at': 1480525640, 'url': 'https://genius.com/Albert-collins-blackjack-lyrics', 'featured_artists': [], 'primary_artist': {'_type': 'artist', 'api_path': '/artists/348886', 'header_image_url': 'https://images.genius.com/ba0c3a900db35f9e8ec1ae49aca1a5c6.245x190x38.gif', 'id': 348886, 'image_url': 'https://images.genius.com/c30426dc7b18bddc8fd811ee9a41c70a.1000x1000x1.jpg', 'index_character': 'a', 'is_meme_verified': False, 'is_verified': False, 'name': 'Albert Collins', 'slug': 'Albert-collins', 'url': 'https://genius.com/artists/Albert-collins'}, 'primary_artists': [{'_type': 'artist', 'api_path': '/artists/348886', 'header_image_url': 'https://images.genius.com/ba0c3a900db35f9e8ec1ae49aca1a5c6.245x190x38.gif', 'id': 348886, 'image_url': 'https://images.genius.com/c30426dc7b18bddc8fd811ee9a41c70a.1000x1000x1.jpg', 'index_character': 'a', 'is_meme_verified': False, 'is_verified': False, 'name': 'Albert Collins', 'slug': 'Albert-collins', 'url': 'https://genius.com/artists/Albert-collins'}]}, {'_type': 'song', 'annotation_count': 1, 'api_path': '/songs/1094985', 'artist_names': 'Albert Collins', 'full_title': 'Blue Monday Hangover by\\xa0Albert\\xa0Collins', 'header_image_thumbnail_url': 'https://images.genius.com/c4bab6588e549f2517c894c387c0ad27.300x300x1.jpg', 'header_image_url': 'https://images.genius.com/c4bab6588e549f2517c894c387c0ad27.316x316x1.jpg', 'id': 1094985, 'instrumental': False, 'lyrics_owner_id': 1549345, 'lyrics_state': 'complete', 'lyrics_updated_at': 1429630715, 'path': '/Albert-collins-blue-monday-hangover-lyrics', 'primary_artist_names': 'Albert Collins', 'pyongs_count': None, 'relationships_index_url': 'https://genius.com/Albert-collins-blue-monday-hangover-sample', 'release_date_components': None, 'release_date_for_display': None, 'release_date_with_abbreviated_month_for_display': None, 'song_art_image_thumbnail_url': 'https://images.genius.com/c4bab6588e549f2517c894c387c0ad27.300x300x1.jpg', 'song_art_image_url': 'https://images.genius.com/c4bab6588e549f2517c894c387c0ad27.316x316x1.jpg', 'stats': {'unreviewed_annotations': 0, 'hot': False}, 'title': 'Blue Monday Hangover', 'title_with_featured': 'Blue Monday Hangover', 'updated_by_human_at': 1692888928, 'url': 'https://genius.com/Albert-collins-blue-monday-hangover-lyrics', 'featured_artists': [], 'primary_artist': {'_type': 'artist', 'api_path': '/artists/348886', 'header_image_url': 'https://images.genius.com/ba0c3a900db35f9e8ec1ae49aca1a5c6.245x190x38.gif', 'id': 348886, 'image_url': 'https://images.genius.com/c30426dc7b18bddc8fd811ee9a41c70a.1000x1000x1.jpg', 'index_character': 'a', 'is_meme_verified': False, 'is_verified': False, 'name': 'Albert Collins', 'slug': 'Albert-collins', 'url': 'https://genius.com/artists/Albert-collins'}, 'primary_artists': [{'_type': 'artist', 'api_path': '/artists/348886', 'header_image_url': 'https://images.genius.com/ba0c3a900db35f9e8ec1ae49aca1a5c6.245x190x38.gif', 'id': 348886, 'image_url': 'https://images.genius.com/c30426dc7b18bddc8fd811ee9a41c70a.1000x1000x1.jpg', 'index_character': 'a', 'is_meme_verified': False, 'is_verified': False, 'name': 'Albert Collins', 'slug': 'Albert-collins', 'url': 'https://genius.com/artists/Albert-collins'}]}, {'_type': 'song', 'annotation_count': 1, 'api_path': '/songs/1108864', 'artist_names': 'Albert Collins', 'full_title': 'Brick by\\xa0Albert\\xa0Collins', 'header_image_thumbnail_url': 'https://images.genius.com/c4bab6588e549f2517c894c387c0ad27.300x300x1.jpg', 'header_image_url': 'https://images.genius.com/c4bab6588e549f2517c894c387c0ad27.316x316x1.jpg', 'id': 1108864, 'instrumental': False, 'lyrics_owner_id': 1549345, 'lyrics_state': 'complete', 'lyrics_updated_at': 1429638300, 'path': '/Albert-collins-brick-lyrics', 'primary_artist_names': 'Albert Collins', 'pyongs_count': None, 'relationships_index_url': 'https://genius.com/Albert-collins-brick-sample', 'release_date_components': None, 'release_date_for_display': None, 'release_date_with_abbreviated_month_for_display': None, 'song_art_image_thumbnail_url': 'https://images.genius.com/c4bab6588e549f2517c894c387c0ad27.300x300x1.jpg', 'song_art_image_url': 'https://images.genius.com/c4bab6588e549f2517c894c387c0ad27.316x316x1.jpg', 'stats': {'unreviewed_annotations': 0, 'hot': False}, 'title': 'Brick', 'title_with_featured': 'Brick', 'updated_by_human_at': 1480530992, 'url': 'https://genius.com/Albert-collins-brick-lyrics', 'featured_artists': [], 'primary_artist': {'_type': 'artist', 'api_path': '/artists/348886', 'header_image_url': 'https://images.genius.com/ba0c3a900db35f9e8ec1ae49aca1a5c6.245x190x38.gif', 'id': 348886, 'image_url': 'https://images.genius.com/c30426dc7b18bddc8fd811ee9a41c70a.1000x1000x1.jpg', 'index_character': 'a', 'is_meme_verified': False, 'is_verified': False, 'name': 'Albert Collins', 'slug': 'Albert-collins', 'url': 'https://genius.com/artists/Albert-collins'}, 'primary_artists': [{'_type': 'artist', 'api_path': '/artists/348886', 'header_image_url': 'https://images.genius.com/ba0c3a900db35f9e8ec1ae49aca1a5c6.245x190x38.gif', 'id': 348886, 'image_url': 'https://images.genius.com/c30426dc7b18bddc8fd811ee9a41c70a.1000x1000x1.jpg', 'index_character': 'a', 'is_meme_verified': False, 'is_verified': False, 'name': 'Albert Collins', 'slug': 'Albert-collins', 'url': 'https://genius.com/artists/Albert-collins'}]}, {'_type': 'song', 'annotation_count': 1, 'api_path': '/songs/1817681', 'artist_names': 'Albert Collins', 'full_title': 'Bring Your Fine Self Home by\\xa0Albert\\xa0Collins', 'header_image_thumbnail_url': 'https://images.genius.com/8909235b031e61f690b9a03f007de491.300x298x1.jpg', 'header_image_url': 'https://images.genius.com/8909235b031e61f690b9a03f007de491.482x479x1.jpg', 'id': 1817681, 'instrumental': False, 'lyrics_owner_id': 1549345, 'lyrics_state': 'complete', 'lyrics_updated_at': 1431617948, 'path': '/Albert-collins-bring-your-fine-self-home-lyrics', 'primary_artist_names': 'Albert Collins', 'pyongs_count': None, 'relationships_index_url': 'https://genius.com/Albert-collins-bring-your-fine-self-home-sample', 'release_date_components': None, 'release_date_for_display': None, 'release_date_with_abbreviated_month_for_display': None, 'song_art_image_thumbnail_url': 'https://images.genius.com/8909235b031e61f690b9a03f007de491.300x298x1.jpg', 'song_art_image_url': 'https://images.genius.com/8909235b031e61f690b9a03f007de491.482x479x1.jpg', 'stats': {'unreviewed_annotations': 0, 'hot': False}, 'title': 'Bring Your Fine Self Home', 'title_with_featured': 'Bring Your Fine Self Home', 'updated_by_human_at': 1445442301, 'url': 'https://genius.com/Albert-collins-bring-your-fine-self-home-lyrics', 'featured_artists': [], 'primary_artist': {'_type': 'artist', 'api_path': '/artists/348886', 'header_image_url': 'https://images.genius.com/ba0c3a900db35f9e8ec1ae49aca1a5c6.245x190x38.gif', 'id': 348886, 'image_url': 'https://images.genius.com/c30426dc7b18bddc8fd811ee9a41c70a.1000x1000x1.jpg', 'index_character': 'a', 'is_meme_verified': False, 'is_verified': False, 'name': 'Albert Collins', 'slug': 'Albert-collins', 'url': 'https://genius.com/artists/Albert-collins'}, 'primary_artists': [{'_type': 'artist', 'api_path': '/artists/348886', 'header_image_url': 'https://images.genius.com/ba0c3a900db35f9e8ec1ae49aca1a5c6.245x190x38.gif', 'id': 348886, 'image_url': 'https://images.genius.com/c30426dc7b18bddc8fd811ee9a41c70a.1000x1000x1.jpg', 'index_character': 'a', 'is_meme_verified': False, 'is_verified': False, 'name': 'Albert Collins', 'slug': 'Albert-collins', 'url': 'https://genius.com/artists/Albert-collins'}]}, {'_type': 'song', 'annotation_count': 1, 'api_path': '/songs/1438366', 'artist_names': 'Albert Collins', 'full_title': 'Broke by\\xa0Albert\\xa0Collins', 'header_image_thumbnail_url': 'https://images.genius.com/c30426dc7b18bddc8fd811ee9a41c70a.300x300x1.jpg', 'header_image_url': 'https://images.genius.com/c30426dc7b18bddc8fd811ee9a41c70a.1000x1000x1.jpg', 'id': 1438366, 'instrumental': False, 'lyrics_owner_id': 1549345, 'lyrics_state': 'complete', 'lyrics_updated_at': 1429844477, 'path': '/Albert-collins-broke-lyrics', 'primary_artist_names': 'Albert Collins', 'pyongs_count': None, 'relationships_index_url': 'https://genius.com/Albert-collins-broke-sample', 'release_date_components': None, 'release_date_for_display': None, 'release_date_with_abbreviated_month_for_display': None, 'song_art_image_thumbnail_url': 'https://images.genius.com/c30426dc7b18bddc8fd811ee9a41c70a.300x300x1.jpg', 'song_art_image_url': 'https://images.genius.com/c30426dc7b18bddc8fd811ee9a41c70a.1000x1000x1.jpg', 'stats': {'unreviewed_annotations': 0, 'hot': False}, 'title': 'Broke', 'title_with_featured': 'Broke', 'updated_by_human_at': 1442867109, 'url': 'https://genius.com/Albert-collins-broke-lyrics', 'featured_artists': [], 'primary_artist': {'_type': 'artist', 'api_path': '/artists/348886', 'header_image_url': 'https://images.genius.com/ba0c3a900db35f9e8ec1ae49aca1a5c6.245x190x38.gif', 'id': 348886, 'image_url': 'https://images.genius.com/c30426dc7b18bddc8fd811ee9a41c70a.1000x1000x1.jpg', 'index_character': 'a', 'is_meme_verified': False, 'is_verified': False, 'name': 'Albert Collins', 'slug': 'Albert-collins', 'url': 'https://genius.com/artists/Albert-collins'}, 'primary_artists': [{'_type': 'artist', 'api_path': '/artists/348886', 'header_image_url': 'https://images.genius.com/ba0c3a900db35f9e8ec1ae49aca1a5c6.245x190x38.gif', 'id': 348886, 'image_url': 'https://images.genius.com/c30426dc7b18bddc8fd811ee9a41c70a.1000x1000x1.jpg', 'index_character': 'a', 'is_meme_verified': False, 'is_verified': False, 'name': 'Albert Collins', 'slug': 'Albert-collins', 'url': 'https://genius.com/artists/Albert-collins'}]}, {'_type': 'song', 'annotation_count': 1, 'api_path': '/songs/1683712', 'artist_names': 'Albert Collins', 'full_title': '...But I Was Cool! by\\xa0Albert\\xa0Collins', 'header_image_thumbnail_url': 'https://images.genius.com/c30426dc7b18bddc8fd811ee9a41c70a.300x300x1.jpg', 'header_image_url': 'https://images.genius.com/c30426dc7b18bddc8fd811ee9a41c70a.1000x1000x1.jpg', 'id': 1683712, 'instrumental': False, 'lyrics_owner_id': 1549345, 'lyrics_state': 'complete', 'lyrics_updated_at': 1429903727, 'path': '/Albert-collins-but-i-was-cool-lyrics', 'primary_artist_names': 'Albert Collins', 'pyongs_count': None, 'relationships_index_url': 'https://genius.com/Albert-collins-but-i-was-cool-sample', 'release_date_components': None, 'release_date_for_display': None, 'release_date_with_abbreviated_month_for_display': None, 'song_art_image_thumbnail_url': 'https://images.genius.com/c30426dc7b18bddc8fd811ee9a41c70a.300x300x1.jpg', 'song_art_image_url': 'https://images.genius.com/c30426dc7b18bddc8fd811ee9a41c70a.1000x1000x1.jpg', 'stats': {'unreviewed_annotations': 0, 'hot': False}, 'title': '...But I Was Cool!', 'title_with_featured': '...But I Was Cool!', 'updated_by_human_at': 1692889286, 'url': 'https://genius.com/Albert-collins-but-i-was-cool-lyrics', 'featured_artists': [], 'primary_artist': {'_type': 'artist', 'api_path': '/artists/348886', 'header_image_url': 'https://images.genius.com/ba0c3a900db35f9e8ec1ae49aca1a5c6.245x190x38.gif', 'id': 348886, 'image_url': 'https://images.genius.com/c30426dc7b18bddc8fd811ee9a41c70a.1000x1000x1.jpg', 'index_character': 'a', 'is_meme_verified': False, 'is_verified': False, 'name': 'Albert Collins', 'slug': 'Albert-collins', 'url': 'https://genius.com/artists/Albert-collins'}, 'primary_artists': [{'_type': 'artist', 'api_path': '/artists/348886', 'header_image_url': 'https://images.genius.com/ba0c3a900db35f9e8ec1ae49aca1a5c6.245x190x38.gif', 'id': 348886, 'image_url': 'https://images.genius.com/c30426dc7b18bddc8fd811ee9a41c70a.1000x1000x1.jpg', 'index_character': 'a', 'is_meme_verified': False, 'is_verified': False, 'name': 'Albert Collins', 'slug': 'Albert-collins', 'url': 'https://genius.com/artists/Albert-collins'}]}, {'_type': 'song', 'annotation_count': 1, 'api_path': '/songs/1245023', 'artist_names': 'B.B. King (Ft. Albert Collins)', 'full_title': 'Call It Stormy Monday by\\xa0B.B.\\xa0King (Ft.\\xa0Albert\\xa0Collins)', 'header_image_thumbnail_url': 'https://images.genius.com/748b45d461fce2619c8fadf4af503c98.300x300x1.jpg', 'header_image_url': 'https://images.genius.com/748b45d461fce2619c8fadf4af503c98.1000x999x1.jpg', 'id': 1245023, 'instrumental': False, 'lyrics_owner_id': 1549345, 'lyrics_state': 'complete', 'lyrics_updated_at': 1429718380, 'path': '/Bb-king-call-it-stormy-monday-lyrics', 'primary_artist_names': 'B.B. King', 'pyongs_count': None, 'relationships_index_url': 'https://genius.com/Bb-king-call-it-stormy-monday-sample', 'release_date_components': {'year': 1993, 'month': None, 'day': None}, 'release_date_for_display': '1993', 'release_date_with_abbreviated_month_for_display': '1993', 'song_art_image_thumbnail_url': 'https://images.genius.com/748b45d461fce2619c8fadf4af503c98.300x300x1.jpg', 'song_art_image_url': 'https://images.genius.com/748b45d461fce2619c8fadf4af503c98.1000x999x1.jpg', 'stats': {'unreviewed_annotations': 0, 'hot': False}, 'title': 'Call It Stormy Monday', 'title_with_featured': 'Call It Stormy Monday (Ft.\\xa0Albert\\xa0Collins)', 'updated_by_human_at': 1625437509, 'url': 'https://genius.com/Bb-king-call-it-stormy-monday-lyrics', 'featured_artists': [{'_type': 'artist', 'api_path': '/artists/348886', 'header_image_url': 'https://images.genius.com/ba0c3a900db35f9e8ec1ae49aca1a5c6.245x190x38.gif', 'id': 348886, 'image_url': 'https://images.genius.com/c30426dc7b18bddc8fd811ee9a41c70a.1000x1000x1.jpg', 'index_character': 'a', 'is_meme_verified': False, 'is_verified': False, 'name': 'Albert Collins', 'slug': 'Albert-collins', 'url': 'https://genius.com/artists/Albert-collins'}], 'primary_artist': {'_type': 'artist', 'api_path': '/artists/1107', 'header_image_url': 'https://images.genius.com/b891d6cb2fb028ec38e61ddb8c24fe70.1000x698x1.jpg', 'id': 1107, 'image_url': 'https://images.genius.com/b891d6cb2fb028ec38e61ddb8c24fe70.1000x698x1.jpg', 'index_character': 'b', 'is_meme_verified': False, 'is_verified': False, 'name': 'B.B. King', 'slug': 'Bb-king', 'url': 'https://genius.com/artists/Bb-king'}, 'primary_artists': [{'_type': 'artist', 'api_path': '/artists/1107', 'header_image_url': 'https://images.genius.com/b891d6cb2fb028ec38e61ddb8c24fe70.1000x698x1.jpg', 'id': 1107, 'image_url': 'https://images.genius.com/b891d6cb2fb028ec38e61ddb8c24fe70.1000x698x1.jpg', 'index_character': 'b', 'is_meme_verified': False, 'is_verified': False, 'name': 'B.B. King', 'slug': 'Bb-king', 'url': 'https://genius.com/artists/Bb-king'}]}, {'_type': 'song', 'annotation_count': 1, 'api_path': '/songs/1635348', 'artist_names': 'B.B. King (Ft. Albert Collins)', 'full_title': 'Call It Stormy Monday (Complete version) by\\xa0B.B.\\xa0King (Ft.\\xa0Albert\\xa0Collins)', 'header_image_thumbnail_url': 'https://images.genius.com/b891d6cb2fb028ec38e61ddb8c24fe70.300x209x1.jpg', 'header_image_url': 'https://images.genius.com/b891d6cb2fb028ec38e61ddb8c24fe70.1000x698x1.jpg', 'id': 1635348, 'instrumental': False, 'lyrics_owner_id': 1549345, 'lyrics_state': 'complete', 'lyrics_updated_at': 1429901133, 'path': '/Bb-king-call-it-stormy-monday-complete-version-lyrics', 'primary_artist_names': 'B.B. King', 'pyongs_count': None, 'relationships_index_url': 'https://genius.com/Bb-king-call-it-stormy-monday-complete-version-sample', 'release_date_components': None, 'release_date_for_display': None, 'release_date_with_abbreviated_month_for_display': None, 'song_art_image_thumbnail_url': 'https://images.genius.com/b891d6cb2fb028ec38e61ddb8c24fe70.300x209x1.jpg', 'song_art_image_url': 'https://images.genius.com/b891d6cb2fb028ec38e61ddb8c24fe70.1000x698x1.jpg', 'stats': {'unreviewed_annotations': 0, 'hot': False}, 'title': 'Call It Stormy Monday (Complete version)', 'title_with_featured': 'Call It Stormy Monday (Complete version) (Ft.\\xa0Albert\\xa0Collins)', 'updated_by_human_at': 1444657396, 'url': 'https://genius.com/Bb-king-call-it-stormy-monday-complete-version-lyrics', 'featured_artists': [{'_type': 'artist', 'api_path': '/artists/348886', 'header_image_url': 'https://images.genius.com/ba0c3a900db35f9e8ec1ae49aca1a5c6.245x190x38.gif', 'id': 348886, 'image_url': 'https://images.genius.com/c30426dc7b18bddc8fd811ee9a41c70a.1000x1000x1.jpg', 'index_character': 'a', 'is_meme_verified': False, 'is_verified': False, 'name': 'Albert Collins', 'slug': 'Albert-collins', 'url': 'https://genius.com/artists/Albert-collins'}], 'primary_artist': {'_type': 'artist', 'api_path': '/artists/1107', 'header_image_url': 'https://images.genius.com/b891d6cb2fb028ec38e61ddb8c24fe70.1000x698x1.jpg', 'id': 1107, 'image_url': 'https://images.genius.com/b891d6cb2fb028ec38e61ddb8c24fe70.1000x698x1.jpg', 'index_character': 'b', 'is_meme_verified': False, 'is_verified': False, 'name': 'B.B. King', 'slug': 'Bb-king', 'url': 'https://genius.com/artists/Bb-king'}, 'primary_artists': [{'_type': 'artist', 'api_path': '/artists/1107', 'header_image_url': 'https://images.genius.com/b891d6cb2fb028ec38e61ddb8c24fe70.1000x698x1.jpg', 'id': 1107, 'image_url': 'https://images.genius.com/b891d6cb2fb028ec38e61ddb8c24fe70.1000x698x1.jpg', 'index_character': 'b', 'is_meme_verified': False, 'is_verified': False, 'name': 'B.B. King', 'slug': 'Bb-king', 'url': 'https://genius.com/artists/Bb-king'}]}, {'_type': 'song', 'annotation_count': 1, 'api_path': '/songs/1207768', 'artist_names': 'Albert Collins', 'full_title': \"Cash Talkin' (The Workingman's Blues) by\\xa0Albert\\xa0Collins\", 'header_image_thumbnail_url': 'https://images.genius.com/4c4fef8769bbba21dbcdd3bd643ee421.300x302x1.jpg', 'header_image_url': 'https://images.genius.com/4c4fef8769bbba21dbcdd3bd643ee421.500x503x1.jpg', 'id': 1207768, 'instrumental': False, 'lyrics_owner_id': 1549345, 'lyrics_state': 'complete', 'lyrics_updated_at': 1429695496, 'path': '/Albert-collins-cash-talkin-the-workingmans-blues-lyrics', 'primary_artist_names': 'Albert Collins', 'pyongs_count': None, 'relationships_index_url': 'https://genius.com/Albert-collins-cash-talkin-the-workingmans-blues-sample', 'release_date_components': None, 'release_date_for_display': None, 'release_date_with_abbreviated_month_for_display': None, 'song_art_image_thumbnail_url': 'https://images.genius.com/4c4fef8769bbba21dbcdd3bd643ee421.300x302x1.jpg', 'song_art_image_url': 'https://images.genius.com/4c4fef8769bbba21dbcdd3bd643ee421.500x503x1.jpg', 'stats': {'unreviewed_annotations': 0, 'hot': False}, 'title': 'Cash Talkin’ (The Workingman’s Blues)', 'title_with_featured': \"Cash Talkin' (The Workingman's Blues)\", 'updated_by_human_at': 1476782672, 'url': 'https://genius.com/Albert-collins-cash-talkin-the-workingmans-blues-lyrics', 'featured_artists': [], 'primary_artist': {'_type': 'artist', 'api_path': '/artists/348886', 'header_image_url': 'https://images.genius.com/ba0c3a900db35f9e8ec1ae49aca1a5c6.245x190x38.gif', 'id': 348886, 'image_url': 'https://images.genius.com/c30426dc7b18bddc8fd811ee9a41c70a.1000x1000x1.jpg', 'index_character': 'a', 'is_meme_verified': False, 'is_verified': False, 'name': 'Albert Collins', 'slug': 'Albert-collins', 'url': 'https://genius.com/artists/Albert-collins'}, 'primary_artists': [{'_type': 'artist', 'api_path': '/artists/348886', 'header_image_url': 'https://images.genius.com/ba0c3a900db35f9e8ec1ae49aca1a5c6.245x190x38.gif', 'id': 348886, 'image_url': 'https://images.genius.com/c30426dc7b18bddc8fd811ee9a41c70a.1000x1000x1.jpg', 'index_character': 'a', 'is_meme_verified': False, 'is_verified': False, 'name': 'Albert Collins', 'slug': 'Albert-collins', 'url': 'https://genius.com/artists/Albert-collins'}]}, {'_type': 'song', 'annotation_count': 1, 'api_path': '/songs/1468402', 'artist_names': 'Albert Collins', 'full_title': 'Cold, Cold Feeling by\\xa0Albert\\xa0Collins', 'header_image_thumbnail_url': 'https://images.genius.com/9d0b08d8d63dfbf7c32d8af3210a2fa6.300x293x1.jpg', 'header_image_url': 'https://images.genius.com/9d0b08d8d63dfbf7c32d8af3210a2fa6.561x547x1.jpg', 'id': 1468402, 'instrumental': False, 'lyrics_owner_id': 4124339, 'lyrics_state': 'complete', 'lyrics_updated_at': 1548031833, 'path': '/Albert-collins-cold-cold-feeling-lyrics', 'primary_artist_names': 'Albert Collins', 'pyongs_count': None, 'relationships_index_url': 'https://genius.com/Albert-collins-cold-cold-feeling-sample', 'release_date_components': None, 'release_date_for_display': None, 'release_date_with_abbreviated_month_for_display': None, 'song_art_image_thumbnail_url': 'https://images.genius.com/9d0b08d8d63dfbf7c32d8af3210a2fa6.300x293x1.jpg', 'song_art_image_url': 'https://images.genius.com/9d0b08d8d63dfbf7c32d8af3210a2fa6.561x547x1.jpg', 'stats': {'unreviewed_annotations': 0, 'hot': False, 'pageviews': 7292}, 'title': 'Cold, Cold Feeling', 'title_with_featured': 'Cold, Cold Feeling', 'updated_by_human_at': 1548031833, 'url': 'https://genius.com/Albert-collins-cold-cold-feeling-lyrics', 'featured_artists': [], 'primary_artist': {'_type': 'artist', 'api_path': '/artists/348886', 'header_image_url': 'https://images.genius.com/ba0c3a900db35f9e8ec1ae49aca1a5c6.245x190x38.gif', 'id': 348886, 'image_url': 'https://images.genius.com/c30426dc7b18bddc8fd811ee9a41c70a.1000x1000x1.jpg', 'index_character': 'a', 'is_meme_verified': False, 'is_verified': False, 'name': 'Albert Collins', 'slug': 'Albert-collins', 'url': 'https://genius.com/artists/Albert-collins'}, 'primary_artists': [{'_type': 'artist', 'api_path': '/artists/348886', 'header_image_url': 'https://images.genius.com/ba0c3a900db35f9e8ec1ae49aca1a5c6.245x190x38.gif', 'id': 348886, 'image_url': 'https://images.genius.com/c30426dc7b18bddc8fd811ee9a41c70a.1000x1000x1.jpg', 'index_character': 'a', 'is_meme_verified': False, 'is_verified': False, 'name': 'Albert Collins', 'slug': 'Albert-collins', 'url': 'https://genius.com/artists/Albert-collins'}]}, {'_type': 'song', 'annotation_count': 1, 'api_path': '/songs/1658469', 'artist_names': 'Albert Collins', 'full_title': 'Conversation with Collins by\\xa0Albert\\xa0Collins', 'header_image_thumbnail_url': 'https://images.genius.com/9d0b08d8d63dfbf7c32d8af3210a2fa6.300x293x1.jpg', 'header_image_url': 'https://images.genius.com/9d0b08d8d63dfbf7c32d8af3210a2fa6.561x547x1.jpg', 'id': 1658469, 'instrumental': False, 'lyrics_owner_id': 4124339, 'lyrics_state': 'complete', 'lyrics_updated_at': 1547085234, 'path': '/Albert-collins-conversation-with-collins-lyrics', 'primary_artist_names': 'Albert Collins', 'pyongs_count': 1, 'relationships_index_url': 'https://genius.com/Albert-collins-conversation-with-collins-sample', 'release_date_components': None, 'release_date_for_display': None, 'release_date_with_abbreviated_month_for_display': None, 'song_art_image_thumbnail_url': 'https://images.genius.com/9d0b08d8d63dfbf7c32d8af3210a2fa6.300x293x1.jpg', 'song_art_image_url': 'https://images.genius.com/9d0b08d8d63dfbf7c32d8af3210a2fa6.561x547x1.jpg', 'stats': {'unreviewed_annotations': 0, 'hot': False}, 'title': 'Conversation with Collins', 'title_with_featured': 'Conversation with Collins', 'updated_by_human_at': 1547085234, 'url': 'https://genius.com/Albert-collins-conversation-with-collins-lyrics', 'featured_artists': [], 'primary_artist': {'_type': 'artist', 'api_path': '/artists/348886', 'header_image_url': 'https://images.genius.com/ba0c3a900db35f9e8ec1ae49aca1a5c6.245x190x38.gif', 'id': 348886, 'image_url': 'https://images.genius.com/c30426dc7b18bddc8fd811ee9a41c70a.1000x1000x1.jpg', 'index_character': 'a', 'is_meme_verified': False, 'is_verified': False, 'name': 'Albert Collins', 'slug': 'Albert-collins', 'url': 'https://genius.com/artists/Albert-collins'}, 'primary_artists': [{'_type': 'artist', 'api_path': '/artists/348886', 'header_image_url': 'https://images.genius.com/ba0c3a900db35f9e8ec1ae49aca1a5c6.245x190x38.gif', 'id': 348886, 'image_url': 'https://images.genius.com/c30426dc7b18bddc8fd811ee9a41c70a.1000x1000x1.jpg', 'index_character': 'a', 'is_meme_verified': False, 'is_verified': False, 'name': 'Albert Collins', 'slug': 'Albert-collins', 'url': 'https://genius.com/artists/Albert-collins'}]}, {'_type': 'song', 'annotation_count': 1, 'api_path': '/songs/965812', 'artist_names': 'Albert Collins', 'full_title': \"Don't Go Reaching Across My Plate by\\xa0Albert\\xa0Collins\", 'header_image_thumbnail_url': 'https://images.genius.com/c4bab6588e549f2517c894c387c0ad27.300x300x1.jpg', 'header_image_url': 'https://images.genius.com/c4bab6588e549f2517c894c387c0ad27.316x316x1.jpg', 'id': 965812, 'instrumental': False, 'lyrics_owner_id': 1549345, 'lyrics_state': 'complete', 'lyrics_updated_at': 1429554237, 'path': '/Albert-collins-dont-go-reaching-across-my-plate-lyrics', 'primary_artist_names': 'Albert Collins', 'pyongs_count': None, 'relationships_index_url': 'https://genius.com/Albert-collins-dont-go-reaching-across-my-plate-sample', 'release_date_components': None, 'release_date_for_display': None, 'release_date_with_abbreviated_month_for_display': None, 'song_art_image_thumbnail_url': 'https://images.genius.com/c4bab6588e549f2517c894c387c0ad27.300x300x1.jpg', 'song_art_image_url': 'https://images.genius.com/c4bab6588e549f2517c894c387c0ad27.316x316x1.jpg', 'stats': {'unreviewed_annotations': 0, 'hot': False}, 'title': 'Don’t Go Reaching Across My Plate', 'title_with_featured': \"Don't Go Reaching Across My Plate\", 'updated_by_human_at': 1480545023, 'url': 'https://genius.com/Albert-collins-dont-go-reaching-across-my-plate-lyrics', 'featured_artists': [], 'primary_artist': {'_type': 'artist', 'api_path': '/artists/348886', 'header_image_url': 'https://images.genius.com/ba0c3a900db35f9e8ec1ae49aca1a5c6.245x190x38.gif', 'id': 348886, 'image_url': 'https://images.genius.com/c30426dc7b18bddc8fd811ee9a41c70a.1000x1000x1.jpg', 'index_character': 'a', 'is_meme_verified': False, 'is_verified': False, 'name': 'Albert Collins', 'slug': 'Albert-collins', 'url': 'https://genius.com/artists/Albert-collins'}, 'primary_artists': [{'_type': 'artist', 'api_path': '/artists/348886', 'header_image_url': 'https://images.genius.com/ba0c3a900db35f9e8ec1ae49aca1a5c6.245x190x38.gif', 'id': 348886, 'image_url': 'https://images.genius.com/c30426dc7b18bddc8fd811ee9a41c70a.1000x1000x1.jpg', 'index_character': 'a', 'is_meme_verified': False, 'is_verified': False, 'name': 'Albert Collins', 'slug': 'Albert-collins', 'url': 'https://genius.com/artists/Albert-collins'}]}, {'_type': 'song', 'annotation_count': 1, 'api_path': '/songs/1051384', 'artist_names': 'Albert Collins', 'full_title': \"Don't Mistake Kindness for Weakness by\\xa0Albert\\xa0Collins\", 'header_image_thumbnail_url': 'https://images.genius.com/637db3ec8e9d66786ed1b22f9b8dfe3d.300x300x1.jpg', 'header_image_url': 'https://images.genius.com/637db3ec8e9d66786ed1b22f9b8dfe3d.945x945x1.jpg', 'id': 1051384, 'instrumental': False, 'lyrics_owner_id': 1549345, 'lyrics_state': 'complete', 'lyrics_updated_at': 1429605084, 'path': '/Albert-collins-dont-mistake-kindness-for-weakness-lyrics', 'primary_artist_names': 'Albert Collins', 'pyongs_count': None, 'relationships_index_url': 'https://genius.com/Albert-collins-dont-mistake-kindness-for-weakness-sample', 'release_date_components': None, 'release_date_for_display': None, 'release_date_with_abbreviated_month_for_display': None, 'song_art_image_thumbnail_url': 'https://images.genius.com/637db3ec8e9d66786ed1b22f9b8dfe3d.300x300x1.jpg', 'song_art_image_url': 'https://images.genius.com/637db3ec8e9d66786ed1b22f9b8dfe3d.945x945x1.jpg', 'stats': {'unreviewed_annotations': 0, 'hot': False}, 'title': 'Don’t Mistake Kindness for Weakness', 'title_with_featured': \"Don't Mistake Kindness for Weakness\", 'updated_by_human_at': 1477007078, 'url': 'https://genius.com/Albert-collins-dont-mistake-kindness-for-weakness-lyrics', 'featured_artists': [], 'primary_artist': {'_type': 'artist', 'api_path': '/artists/348886', 'header_image_url': 'https://images.genius.com/ba0c3a900db35f9e8ec1ae49aca1a5c6.245x190x38.gif', 'id': 348886, 'image_url': 'https://images.genius.com/c30426dc7b18bddc8fd811ee9a41c70a.1000x1000x1.jpg', 'index_character': 'a', 'is_meme_verified': False, 'is_verified': False, 'name': 'Albert Collins', 'slug': 'Albert-collins', 'url': 'https://genius.com/artists/Albert-collins'}, 'primary_artists': [{'_type': 'artist', 'api_path': '/artists/348886', 'header_image_url': 'https://images.genius.com/ba0c3a900db35f9e8ec1ae49aca1a5c6.245x190x38.gif', 'id': 348886, 'image_url': 'https://images.genius.com/c30426dc7b18bddc8fd811ee9a41c70a.1000x1000x1.jpg', 'index_character': 'a', 'is_meme_verified': False, 'is_verified': False, 'name': 'Albert Collins', 'slug': 'Albert-collins', 'url': 'https://genius.com/artists/Albert-collins'}]}, {'_type': 'song', 'annotation_count': 1, 'api_path': '/songs/1071347', 'artist_names': 'Albert Collins', 'full_title': 'Do What You Want to Do by\\xa0Albert\\xa0Collins', 'header_image_thumbnail_url': 'https://images.genius.com/c30426dc7b18bddc8fd811ee9a41c70a.300x300x1.jpg', 'header_image_url': 'https://images.genius.com/c30426dc7b18bddc8fd811ee9a41c70a.1000x1000x1.jpg', 'id': 1071347, 'instrumental': False, 'lyrics_owner_id': 1549345, 'lyrics_state': 'complete', 'lyrics_updated_at': 1429620670, 'path': '/Albert-collins-do-what-you-want-to-do-lyrics', 'primary_artist_names': 'Albert Collins', 'pyongs_count': None, 'relationships_index_url': 'https://genius.com/Albert-collins-do-what-you-want-to-do-sample', 'release_date_components': None, 'release_date_for_display': None, 'release_date_with_abbreviated_month_for_display': None, 'song_art_image_thumbnail_url': 'https://images.genius.com/c30426dc7b18bddc8fd811ee9a41c70a.300x300x1.jpg', 'song_art_image_url': 'https://images.genius.com/c30426dc7b18bddc8fd811ee9a41c70a.1000x1000x1.jpg', 'stats': {'unreviewed_annotations': 0, 'hot': False}, 'title': 'Do What You Want to Do', 'title_with_featured': 'Do What You Want to Do', 'updated_by_human_at': 1436289075, 'url': 'https://genius.com/Albert-collins-do-what-you-want-to-do-lyrics', 'featured_artists': [], 'primary_artist': {'_type': 'artist', 'api_path': '/artists/348886', 'header_image_url': 'https://images.genius.com/ba0c3a900db35f9e8ec1ae49aca1a5c6.245x190x38.gif', 'id': 348886, 'image_url': 'https://images.genius.com/c30426dc7b18bddc8fd811ee9a41c70a.1000x1000x1.jpg', 'index_character': 'a', 'is_meme_verified': False, 'is_verified': False, 'name': 'Albert Collins', 'slug': 'Albert-collins', 'url': 'https://genius.com/artists/Albert-collins'}, 'primary_artists': [{'_type': 'artist', 'api_path': '/artists/348886', 'header_image_url': 'https://images.genius.com/ba0c3a900db35f9e8ec1ae49aca1a5c6.245x190x38.gif', 'id': 348886, 'image_url': 'https://images.genius.com/c30426dc7b18bddc8fd811ee9a41c70a.1000x1000x1.jpg', 'index_character': 'a', 'is_meme_verified': False, 'is_verified': False, 'name': 'Albert Collins', 'slug': 'Albert-collins', 'url': 'https://genius.com/artists/Albert-collins'}]}, {'_type': 'song', 'annotation_count': 1, 'api_path': '/songs/1395367', 'artist_names': 'Long Tall Ernie & The Shakers', 'full_title': 'Do You Remember by\\xa0Long\\xa0Tall Ernie & The Shakers', 'header_image_thumbnail_url': 'https://images.genius.com/36c2c05c3329e2a1724100bc49fb90ed.300x300x1.jpg', 'header_image_url': 'https://images.genius.com/36c2c05c3329e2a1724100bc49fb90ed.565x565x1.jpg', 'id': 1395367, 'instrumental': False, 'lyrics_owner_id': 1549345, 'lyrics_state': 'complete', 'lyrics_updated_at': 1429816587, 'path': '/Long-tall-ernie-and-the-shakers-do-you-remember-lyrics', 'primary_artist_names': 'Long Tall Ernie & The Shakers', 'pyongs_count': None, 'relationships_index_url': 'https://genius.com/Long-tall-ernie-and-the-shakers-do-you-remember-sample', 'release_date_components': {'year': 1977, 'month': None, 'day': None}, 'release_date_for_display': '1977', 'release_date_with_abbreviated_month_for_display': '1977', 'song_art_image_thumbnail_url': 'https://images.genius.com/36c2c05c3329e2a1724100bc49fb90ed.300x300x1.jpg', 'song_art_image_url': 'https://images.genius.com/36c2c05c3329e2a1724100bc49fb90ed.565x565x1.jpg', 'stats': {'unreviewed_annotations': 0, 'hot': False}, 'title': 'Do You Remember', 'title_with_featured': 'Do You Remember', 'updated_by_human_at': 1619293942, 'url': 'https://genius.com/Long-tall-ernie-and-the-shakers-do-you-remember-lyrics', 'featured_artists': [], 'primary_artist': {'_type': 'artist', 'api_path': '/artists/386995', 'header_image_url': 'https://assets.genius.com/images/default_avatar_300.png?1732638268', 'id': 386995, 'image_url': 'https://assets.genius.com/images/default_avatar_300.png?1732638268', 'index_character': 'l', 'is_meme_verified': False, 'is_verified': False, 'name': 'Long Tall Ernie & The Shakers', 'slug': 'Long-tall-ernie-and-the-shakers', 'url': 'https://genius.com/artists/Long-tall-ernie-and-the-shakers'}, 'primary_artists': [{'_type': 'artist', 'api_path': '/artists/386995', 'header_image_url': 'https://assets.genius.com/images/default_avatar_300.png?1732638268', 'id': 386995, 'image_url': 'https://assets.genius.com/images/default_avatar_300.png?1732638268', 'index_character': 'l', 'is_meme_verified': False, 'is_verified': False, 'name': 'Long Tall Ernie & The Shakers', 'slug': 'Long-tall-ernie-and-the-shakers', 'url': 'https://genius.com/artists/Long-tall-ernie-and-the-shakers'}]}, {'_type': 'song', 'annotation_count': 1, 'api_path': '/songs/1038487', 'artist_names': 'Albert Collins', 'full_title': \"Dyin' Flu by\\xa0Albert\\xa0Collins\", 'header_image_thumbnail_url': 'https://images.genius.com/3435faaad43c3c37cdef281d576b2046.300x300x1.jpg', 'header_image_url': 'https://images.genius.com/3435faaad43c3c37cdef281d576b2046.600x600x1.jpg', 'id': 1038487, 'instrumental': False, 'lyrics_owner_id': 1549345, 'lyrics_state': 'complete', 'lyrics_updated_at': 1429599716, 'path': '/Albert-collins-dyin-flu-lyrics', 'primary_artist_names': 'Albert Collins', 'pyongs_count': None, 'relationships_index_url': 'https://genius.com/Albert-collins-dyin-flu-sample', 'release_date_components': None, 'release_date_for_display': None, 'release_date_with_abbreviated_month_for_display': None, 'song_art_image_thumbnail_url': 'https://images.genius.com/3435faaad43c3c37cdef281d576b2046.300x300x1.jpg', 'song_art_image_url': 'https://images.genius.com/3435faaad43c3c37cdef281d576b2046.600x600x1.jpg', 'stats': {'unreviewed_annotations': 0, 'hot': False}, 'title': 'Dyin’ Flu', 'title_with_featured': \"Dyin' Flu\", 'updated_by_human_at': 1481903745, 'url': 'https://genius.com/Albert-collins-dyin-flu-lyrics', 'featured_artists': [], 'primary_artist': {'_type': 'artist', 'api_path': '/artists/348886', 'header_image_url': 'https://images.genius.com/ba0c3a900db35f9e8ec1ae49aca1a5c6.245x190x38.gif', 'id': 348886, 'image_url': 'https://images.genius.com/c30426dc7b18bddc8fd811ee9a41c70a.1000x1000x1.jpg', 'index_character': 'a', 'is_meme_verified': False, 'is_verified': False, 'name': 'Albert Collins', 'slug': 'Albert-collins', 'url': 'https://genius.com/artists/Albert-collins'}, 'primary_artists': [{'_type': 'artist', 'api_path': '/artists/348886', 'header_image_url': 'https://images.genius.com/ba0c3a900db35f9e8ec1ae49aca1a5c6.245x190x38.gif', 'id': 348886, 'image_url': 'https://images.genius.com/c30426dc7b18bddc8fd811ee9a41c70a.1000x1000x1.jpg', 'index_character': 'a', 'is_meme_verified': False, 'is_verified': False, 'name': 'Albert Collins', 'slug': 'Albert-collins', 'url': 'https://genius.com/artists/Albert-collins'}]}, {'_type': 'song', 'annotation_count': 1, 'api_path': '/songs/1120650', 'artist_names': 'Albert Collins', 'full_title': 'Ego Trip by\\xa0Albert\\xa0Collins', 'header_image_thumbnail_url': 'https://images.genius.com/c30426dc7b18bddc8fd811ee9a41c70a.300x300x1.jpg', 'header_image_url': 'https://images.genius.com/c30426dc7b18bddc8fd811ee9a41c70a.1000x1000x1.jpg', 'id': 1120650, 'instrumental': False, 'lyrics_owner_id': 1549345, 'lyrics_state': 'complete', 'lyrics_updated_at': 1429645078, 'path': '/Albert-collins-ego-trip-lyrics', 'primary_artist_names': 'Albert Collins', 'pyongs_count': None, 'relationships_index_url': 'https://genius.com/Albert-collins-ego-trip-sample', 'release_date_components': None, 'release_date_for_display': None, 'release_date_with_abbreviated_month_for_display': None, 'song_art_image_thumbnail_url': 'https://images.genius.com/c30426dc7b18bddc8fd811ee9a41c70a.300x300x1.jpg', 'song_art_image_url': 'https://images.genius.com/c30426dc7b18bddc8fd811ee9a41c70a.1000x1000x1.jpg', 'stats': {'unreviewed_annotations': 0, 'hot': False}, 'title': 'Ego Trip', 'title_with_featured': 'Ego Trip', 'updated_by_human_at': 1436796572, 'url': 'https://genius.com/Albert-collins-ego-trip-lyrics', 'featured_artists': [], 'primary_artist': {'_type': 'artist', 'api_path': '/artists/348886', 'header_image_url': 'https://images.genius.com/ba0c3a900db35f9e8ec1ae49aca1a5c6.245x190x38.gif', 'id': 348886, 'image_url': 'https://images.genius.com/c30426dc7b18bddc8fd811ee9a41c70a.1000x1000x1.jpg', 'index_character': 'a', 'is_meme_verified': False, 'is_verified': False, 'name': 'Albert Collins', 'slug': 'Albert-collins', 'url': 'https://genius.com/artists/Albert-collins'}, 'primary_artists': [{'_type': 'artist', 'api_path': '/artists/348886', 'header_image_url': 'https://images.genius.com/ba0c3a900db35f9e8ec1ae49aca1a5c6.245x190x38.gif', 'id': 348886, 'image_url': 'https://images.genius.com/c30426dc7b18bddc8fd811ee9a41c70a.1000x1000x1.jpg', 'index_character': 'a', 'is_meme_verified': False, 'is_verified': False, 'name': 'Albert Collins', 'slug': 'Albert-collins', 'url': 'https://genius.com/artists/Albert-collins'}]}, {'_type': 'song', 'annotation_count': 0, 'api_path': '/songs/5305861', 'artist_names': \"Smokin' Joe Kubek & Bnois King\", 'full_title': \"Freezer Burn by\\xa0Smokin'\\xa0Joe Kubek & Bnois King\", 'header_image_thumbnail_url': 'https://images.genius.com/1f242f80dc390f1dcca4736a0476049c.300x300x1.jpg', 'header_image_url': 'https://images.genius.com/1f242f80dc390f1dcca4736a0476049c.1000x1000x1.jpg', 'id': 5305861, 'instrumental': True, 'lyrics_owner_id': 10295253, 'lyrics_state': 'complete', 'lyrics_updated_at': 1582917323, 'path': '/Smokin-joe-kubek-and-bnois-king-freezer-burn-lyrics', 'primary_artist_names': \"Smokin' Joe Kubek & Bnois King\", 'pyongs_count': None, 'relationships_index_url': 'https://genius.com/Smokin-joe-kubek-and-bnois-king-freezer-burn-sample', 'release_date_components': None, 'release_date_for_display': None, 'release_date_with_abbreviated_month_for_display': None, 'song_art_image_thumbnail_url': 'https://images.genius.com/1f242f80dc390f1dcca4736a0476049c.300x300x1.jpg', 'song_art_image_url': 'https://images.genius.com/1f242f80dc390f1dcca4736a0476049c.1000x1000x1.jpg', 'stats': {'unreviewed_annotations': 0, 'hot': False}, 'title': 'Freezer Burn', 'title_with_featured': 'Freezer Burn', 'updated_by_human_at': 1667021570, 'url': 'https://genius.com/Smokin-joe-kubek-and-bnois-king-freezer-burn-lyrics', 'featured_artists': [], 'primary_artist': {'_type': 'artist', 'api_path': '/artists/2116642', 'header_image_url': 'https://images.genius.com/844fb93762427946bfb4175dc2a0dd22.851x851x1.jpg', 'id': 2116642, 'image_url': 'https://images.genius.com/844fb93762427946bfb4175dc2a0dd22.851x851x1.jpg', 'index_character': 's', 'is_meme_verified': False, 'is_verified': False, 'name': 'Smokin’ Joe Kubek & Bnois King', 'slug': 'Smokin-joe-kubek-and-bnois-king', 'url': 'https://genius.com/artists/Smokin-joe-kubek-and-bnois-king'}, 'primary_artists': [{'_type': 'artist', 'api_path': '/artists/2116642', 'header_image_url': 'https://images.genius.com/844fb93762427946bfb4175dc2a0dd22.851x851x1.jpg', 'id': 2116642, 'image_url': 'https://images.genius.com/844fb93762427946bfb4175dc2a0dd22.851x851x1.jpg', 'index_character': 's', 'is_meme_verified': False, 'is_verified': False, 'name': 'Smokin’ Joe Kubek & Bnois King', 'slug': 'Smokin-joe-kubek-and-bnois-king', 'url': 'https://genius.com/artists/Smokin-joe-kubek-and-bnois-king'}]}, {'_type': 'song', 'annotation_count': 1, 'api_path': '/songs/1662385', 'artist_names': 'Albert Collins', 'full_title': 'Frosty by\\xa0Albert\\xa0Collins', 'header_image_thumbnail_url': 'https://images.genius.com/3435faaad43c3c37cdef281d576b2046.300x300x1.jpg', 'header_image_url': 'https://images.genius.com/3435faaad43c3c37cdef281d576b2046.600x600x1.jpg', 'id': 1662385, 'instrumental': False, 'lyrics_owner_id': 1549345, 'lyrics_state': 'complete', 'lyrics_updated_at': 1429902572, 'path': '/Albert-collins-frosty-lyrics', 'primary_artist_names': 'Albert Collins', 'pyongs_count': None, 'relationships_index_url': 'https://genius.com/Albert-collins-frosty-sample', 'release_date_components': None, 'release_date_for_display': None, 'release_date_with_abbreviated_month_for_display': None, 'song_art_image_thumbnail_url': 'https://images.genius.com/3435faaad43c3c37cdef281d576b2046.300x300x1.jpg', 'song_art_image_url': 'https://images.genius.com/3435faaad43c3c37cdef281d576b2046.600x600x1.jpg', 'stats': {'unreviewed_annotations': 0, 'hot': False}, 'title': 'Frosty', 'title_with_featured': 'Frosty', 'updated_by_human_at': 1481905581, 'url': 'https://genius.com/Albert-collins-frosty-lyrics', 'featured_artists': [], 'primary_artist': {'_type': 'artist', 'api_path': '/artists/348886', 'header_image_url': 'https://images.genius.com/ba0c3a900db35f9e8ec1ae49aca1a5c6.245x190x38.gif', 'id': 348886, 'image_url': 'https://images.genius.com/c30426dc7b18bddc8fd811ee9a41c70a.1000x1000x1.jpg', 'index_character': 'a', 'is_meme_verified': False, 'is_verified': False, 'name': 'Albert Collins', 'slug': 'Albert-collins', 'url': 'https://genius.com/artists/Albert-collins'}, 'primary_artists': [{'_type': 'artist', 'api_path': '/artists/348886', 'header_image_url': 'https://images.genius.com/ba0c3a900db35f9e8ec1ae49aca1a5c6.245x190x38.gif', 'id': 348886, 'image_url': 'https://images.genius.com/c30426dc7b18bddc8fd811ee9a41c70a.1000x1000x1.jpg', 'index_character': 'a', 'is_meme_verified': False, 'is_verified': False, 'name': 'Albert Collins', 'slug': 'Albert-collins', 'url': 'https://genius.com/artists/Albert-collins'}]}, {'_type': 'song', 'annotation_count': 1, 'api_path': '/songs/1222127', 'artist_names': 'Albert Collins', 'full_title': \"Get To Gettin' by\\xa0Albert\\xa0Collins\", 'header_image_thumbnail_url': 'https://images.genius.com/c30426dc7b18bddc8fd811ee9a41c70a.300x300x1.jpg', 'header_image_url': 'https://images.genius.com/c30426dc7b18bddc8fd811ee9a41c70a.1000x1000x1.jpg', 'id': 1222127, 'instrumental': False, 'lyrics_owner_id': 1549345, 'lyrics_state': 'complete', 'lyrics_updated_at': 1429707049, 'path': '/Albert-collins-get-to-gettin-lyrics', 'primary_artist_names': 'Albert Collins', 'pyongs_count': None, 'relationships_index_url': 'https://genius.com/Albert-collins-get-to-gettin-sample', 'release_date_components': None, 'release_date_for_display': None, 'release_date_with_abbreviated_month_for_display': None, 'song_art_image_thumbnail_url': 'https://images.genius.com/c30426dc7b18bddc8fd811ee9a41c70a.300x300x1.jpg', 'song_art_image_url': 'https://images.genius.com/c30426dc7b18bddc8fd811ee9a41c70a.1000x1000x1.jpg', 'stats': {'unreviewed_annotations': 0, 'hot': False}, 'title': 'Get To Gettin’', 'title_with_featured': \"Get To Gettin'\", 'updated_by_human_at': 1692889206, 'url': 'https://genius.com/Albert-collins-get-to-gettin-lyrics', 'featured_artists': [], 'primary_artist': {'_type': 'artist', 'api_path': '/artists/348886', 'header_image_url': 'https://images.genius.com/ba0c3a900db35f9e8ec1ae49aca1a5c6.245x190x38.gif', 'id': 348886, 'image_url': 'https://images.genius.com/c30426dc7b18bddc8fd811ee9a41c70a.1000x1000x1.jpg', 'index_character': 'a', 'is_meme_verified': False, 'is_verified': False, 'name': 'Albert Collins', 'slug': 'Albert-collins', 'url': 'https://genius.com/artists/Albert-collins'}, 'primary_artists': [{'_type': 'artist', 'api_path': '/artists/348886', 'header_image_url': 'https://images.genius.com/ba0c3a900db35f9e8ec1ae49aca1a5c6.245x190x38.gif', 'id': 348886, 'image_url': 'https://images.genius.com/c30426dc7b18bddc8fd811ee9a41c70a.1000x1000x1.jpg', 'index_character': 'a', 'is_meme_verified': False, 'is_verified': False, 'name': 'Albert Collins', 'slug': 'Albert-collins', 'url': 'https://genius.com/artists/Albert-collins'}]}, {'_type': 'song', 'annotation_count': 1, 'api_path': '/songs/1181392', 'artist_names': 'Albert Collins', 'full_title': 'Give Me My Blues by\\xa0Albert\\xa0Collins', 'header_image_thumbnail_url': 'https://images.genius.com/c4bab6588e549f2517c894c387c0ad27.300x300x1.jpg', 'header_image_url': 'https://images.genius.com/c4bab6588e549f2517c894c387c0ad27.316x316x1.jpg', 'id': 1181392, 'instrumental': False, 'lyrics_owner_id': 1549345, 'lyrics_state': 'complete', 'lyrics_updated_at': 1429684173, 'path': '/Albert-collins-give-me-my-blues-lyrics', 'primary_artist_names': 'Albert Collins', 'pyongs_count': None, 'relationships_index_url': 'https://genius.com/Albert-collins-give-me-my-blues-sample', 'release_date_components': None, 'release_date_for_display': None, 'release_date_with_abbreviated_month_for_display': None, 'song_art_image_thumbnail_url': 'https://images.genius.com/c4bab6588e549f2517c894c387c0ad27.300x300x1.jpg', 'song_art_image_url': 'https://images.genius.com/c4bab6588e549f2517c894c387c0ad27.316x316x1.jpg', 'stats': {'unreviewed_annotations': 0, 'hot': False}, 'title': 'Give Me My Blues', 'title_with_featured': 'Give Me My Blues', 'updated_by_human_at': 1476203058, 'url': 'https://genius.com/Albert-collins-give-me-my-blues-lyrics', 'featured_artists': [], 'primary_artist': {'_type': 'artist', 'api_path': '/artists/348886', 'header_image_url': 'https://images.genius.com/ba0c3a900db35f9e8ec1ae49aca1a5c6.245x190x38.gif', 'id': 348886, 'image_url': 'https://images.genius.com/c30426dc7b18bddc8fd811ee9a41c70a.1000x1000x1.jpg', 'index_character': 'a', 'is_meme_verified': False, 'is_verified': False, 'name': 'Albert Collins', 'slug': 'Albert-collins', 'url': 'https://genius.com/artists/Albert-collins'}, 'primary_artists': [{'_type': 'artist', 'api_path': '/artists/348886', 'header_image_url': 'https://images.genius.com/ba0c3a900db35f9e8ec1ae49aca1a5c6.245x190x38.gif', 'id': 348886, 'image_url': 'https://images.genius.com/c30426dc7b18bddc8fd811ee9a41c70a.1000x1000x1.jpg', 'index_character': 'a', 'is_meme_verified': False, 'is_verified': False, 'name': 'Albert Collins', 'slug': 'Albert-collins', 'url': 'https://genius.com/artists/Albert-collins'}]}, {'_type': 'song', 'annotation_count': 1, 'api_path': '/songs/1560929', 'artist_names': 'Albert Collins', 'full_title': \"Got a Good Thing Goin' by\\xa0Albert\\xa0Collins\", 'header_image_thumbnail_url': 'https://images.genius.com/c30426dc7b18bddc8fd811ee9a41c70a.300x300x1.jpg', 'header_image_url': 'https://images.genius.com/c30426dc7b18bddc8fd811ee9a41c70a.1000x1000x1.jpg', 'id': 1560929, 'instrumental': False, 'lyrics_owner_id': 1549345, 'lyrics_state': 'complete', 'lyrics_updated_at': 1429897140, 'path': '/Albert-collins-got-a-good-thing-goin-lyrics', 'primary_artist_names': 'Albert Collins', 'pyongs_count': None, 'relationships_index_url': 'https://genius.com/Albert-collins-got-a-good-thing-goin-sample', 'release_date_components': None, 'release_date_for_display': None, 'release_date_with_abbreviated_month_for_display': None, 'song_art_image_thumbnail_url': 'https://images.genius.com/c30426dc7b18bddc8fd811ee9a41c70a.300x300x1.jpg', 'song_art_image_url': 'https://images.genius.com/c30426dc7b18bddc8fd811ee9a41c70a.1000x1000x1.jpg', 'stats': {'unreviewed_annotations': 0, 'hot': False}, 'title': 'Got a Good Thing Goin’', 'title_with_featured': \"Got a Good Thing Goin'\", 'updated_by_human_at': 1481770749, 'url': 'https://genius.com/Albert-collins-got-a-good-thing-goin-lyrics', 'featured_artists': [], 'primary_artist': {'_type': 'artist', 'api_path': '/artists/348886', 'header_image_url': 'https://images.genius.com/ba0c3a900db35f9e8ec1ae49aca1a5c6.245x190x38.gif', 'id': 348886, 'image_url': 'https://images.genius.com/c30426dc7b18bddc8fd811ee9a41c70a.1000x1000x1.jpg', 'index_character': 'a', 'is_meme_verified': False, 'is_verified': False, 'name': 'Albert Collins', 'slug': 'Albert-collins', 'url': 'https://genius.com/artists/Albert-collins'}, 'primary_artists': [{'_type': 'artist', 'api_path': '/artists/348886', 'header_image_url': 'https://images.genius.com/ba0c3a900db35f9e8ec1ae49aca1a5c6.245x190x38.gif', 'id': 348886, 'image_url': 'https://images.genius.com/c30426dc7b18bddc8fd811ee9a41c70a.1000x1000x1.jpg', 'index_character': 'a', 'is_meme_verified': False, 'is_verified': False, 'name': 'Albert Collins', 'slug': 'Albert-collins', 'url': 'https://genius.com/artists/Albert-collins'}]}, {'_type': 'song', 'annotation_count': 1, 'api_path': '/songs/1414557', 'artist_names': 'Albert Collins', 'full_title': 'Head Rag by\\xa0Albert\\xa0Collins', 'header_image_thumbnail_url': 'https://images.genius.com/637db3ec8e9d66786ed1b22f9b8dfe3d.300x300x1.jpg', 'header_image_url': 'https://images.genius.com/637db3ec8e9d66786ed1b22f9b8dfe3d.945x945x1.jpg', 'id': 1414557, 'instrumental': False, 'lyrics_owner_id': 1549345, 'lyrics_state': 'complete', 'lyrics_updated_at': 1429830441, 'path': '/Albert-collins-head-rag-lyrics', 'primary_artist_names': 'Albert Collins', 'pyongs_count': None, 'relationships_index_url': 'https://genius.com/Albert-collins-head-rag-sample', 'release_date_components': None, 'release_date_for_display': None, 'release_date_with_abbreviated_month_for_display': None, 'song_art_image_thumbnail_url': 'https://images.genius.com/637db3ec8e9d66786ed1b22f9b8dfe3d.300x300x1.jpg', 'song_art_image_url': 'https://images.genius.com/637db3ec8e9d66786ed1b22f9b8dfe3d.945x945x1.jpg', 'stats': {'unreviewed_annotations': 0, 'hot': False}, 'title': 'Head Rag', 'title_with_featured': 'Head Rag', 'updated_by_human_at': 1477100890, 'url': 'https://genius.com/Albert-collins-head-rag-lyrics', 'featured_artists': [], 'primary_artist': {'_type': 'artist', 'api_path': '/artists/348886', 'header_image_url': 'https://images.genius.com/ba0c3a900db35f9e8ec1ae49aca1a5c6.245x190x38.gif', 'id': 348886, 'image_url': 'https://images.genius.com/c30426dc7b18bddc8fd811ee9a41c70a.1000x1000x1.jpg', 'index_character': 'a', 'is_meme_verified': False, 'is_verified': False, 'name': 'Albert Collins', 'slug': 'Albert-collins', 'url': 'https://genius.com/artists/Albert-collins'}, 'primary_artists': [{'_type': 'artist', 'api_path': '/artists/348886', 'header_image_url': 'https://images.genius.com/ba0c3a900db35f9e8ec1ae49aca1a5c6.245x190x38.gif', 'id': 348886, 'image_url': 'https://images.genius.com/c30426dc7b18bddc8fd811ee9a41c70a.1000x1000x1.jpg', 'index_character': 'a', 'is_meme_verified': False, 'is_verified': False, 'name': 'Albert Collins', 'slug': 'Albert-collins', 'url': 'https://genius.com/artists/Albert-collins'}]}, {'_type': 'song', 'annotation_count': 1, 'api_path': '/songs/1025453', 'artist_names': 'Albert Collins', 'full_title': 'Highway is Like a Woman by\\xa0Albert\\xa0Collins', 'header_image_thumbnail_url': 'https://images.genius.com/c4bab6588e549f2517c894c387c0ad27.300x300x1.jpg', 'header_image_url': 'https://images.genius.com/c4bab6588e549f2517c894c387c0ad27.316x316x1.jpg', 'id': 1025453, 'instrumental': False, 'lyrics_owner_id': 1549345, 'lyrics_state': 'complete', 'lyrics_updated_at': 1429594201, 'path': '/Albert-collins-highway-is-like-a-woman-lyrics', 'primary_artist_names': 'Albert Collins', 'pyongs_count': None, 'relationships_index_url': 'https://genius.com/Albert-collins-highway-is-like-a-woman-sample', 'release_date_components': None, 'release_date_for_display': None, 'release_date_with_abbreviated_month_for_display': None, 'song_art_image_thumbnail_url': 'https://images.genius.com/c4bab6588e549f2517c894c387c0ad27.300x300x1.jpg', 'song_art_image_url': 'https://images.genius.com/c4bab6588e549f2517c894c387c0ad27.316x316x1.jpg', 'stats': {'unreviewed_annotations': 0, 'hot': False}, 'title': 'Highway is Like a Woman', 'title_with_featured': 'Highway is Like a Woman', 'updated_by_human_at': 1481759470, 'url': 'https://genius.com/Albert-collins-highway-is-like-a-woman-lyrics', 'featured_artists': [], 'primary_artist': {'_type': 'artist', 'api_path': '/artists/348886', 'header_image_url': 'https://images.genius.com/ba0c3a900db35f9e8ec1ae49aca1a5c6.245x190x38.gif', 'id': 348886, 'image_url': 'https://images.genius.com/c30426dc7b18bddc8fd811ee9a41c70a.1000x1000x1.jpg', 'index_character': 'a', 'is_meme_verified': False, 'is_verified': False, 'name': 'Albert Collins', 'slug': 'Albert-collins', 'url': 'https://genius.com/artists/Albert-collins'}, 'primary_artists': [{'_type': 'artist', 'api_path': '/artists/348886', 'header_image_url': 'https://images.genius.com/ba0c3a900db35f9e8ec1ae49aca1a5c6.245x190x38.gif', 'id': 348886, 'image_url': 'https://images.genius.com/c30426dc7b18bddc8fd811ee9a41c70a.1000x1000x1.jpg', 'index_character': 'a', 'is_meme_verified': False, 'is_verified': False, 'name': 'Albert Collins', 'slug': 'Albert-collins', 'url': 'https://genius.com/artists/Albert-collins'}]}, {'_type': 'song', 'annotation_count': 0, 'api_path': '/songs/1335774', 'artist_names': 'Albert Collins', 'full_title': 'Honey Hush by\\xa0Albert\\xa0Collins', 'header_image_thumbnail_url': 'https://images.genius.com/9d0b08d8d63dfbf7c32d8af3210a2fa6.300x293x1.jpg', 'header_image_url': 'https://images.genius.com/9d0b08d8d63dfbf7c32d8af3210a2fa6.561x547x1.jpg', 'id': 1335774, 'instrumental': False, 'lyrics_owner_id': 4124339, 'lyrics_state': 'complete', 'lyrics_updated_at': 1547130237, 'path': '/Albert-collins-honey-hush-lyrics', 'primary_artist_names': 'Albert Collins', 'pyongs_count': None, 'relationships_index_url': 'https://genius.com/Albert-collins-honey-hush-sample', 'release_date_components': None, 'release_date_for_display': None, 'release_date_with_abbreviated_month_for_display': None, 'song_art_image_thumbnail_url': 'https://images.genius.com/9d0b08d8d63dfbf7c32d8af3210a2fa6.300x293x1.jpg', 'song_art_image_url': 'https://images.genius.com/9d0b08d8d63dfbf7c32d8af3210a2fa6.561x547x1.jpg', 'stats': {'unreviewed_annotations': 0, 'hot': False}, 'title': 'Honey Hush', 'title_with_featured': 'Honey Hush', 'updated_by_human_at': 1547130237, 'url': 'https://genius.com/Albert-collins-honey-hush-lyrics', 'featured_artists': [], 'primary_artist': {'_type': 'artist', 'api_path': '/artists/348886', 'header_image_url': 'https://images.genius.com/ba0c3a900db35f9e8ec1ae49aca1a5c6.245x190x38.gif', 'id': 348886, 'image_url': 'https://images.genius.com/c30426dc7b18bddc8fd811ee9a41c70a.1000x1000x1.jpg', 'index_character': 'a', 'is_meme_verified': False, 'is_verified': False, 'name': 'Albert Collins', 'slug': 'Albert-collins', 'url': 'https://genius.com/artists/Albert-collins'}, 'primary_artists': [{'_type': 'artist', 'api_path': '/artists/348886', 'header_image_url': 'https://images.genius.com/ba0c3a900db35f9e8ec1ae49aca1a5c6.245x190x38.gif', 'id': 348886, 'image_url': 'https://images.genius.com/c30426dc7b18bddc8fd811ee9a41c70a.1000x1000x1.jpg', 'index_character': 'a', 'is_meme_verified': False, 'is_verified': False, 'name': 'Albert Collins', 'slug': 'Albert-collins', 'url': 'https://genius.com/artists/Albert-collins'}]}, {'_type': 'song', 'annotation_count': 1, 'api_path': '/songs/1167470', 'artist_names': 'Albert Collins', 'full_title': 'Honey Hush! (Talking Woman Blues) by\\xa0Albert\\xa0Collins', 'header_image_thumbnail_url': 'https://images.genius.com/c30426dc7b18bddc8fd811ee9a41c70a.300x300x1.jpg', 'header_image_url': 'https://images.genius.com/c30426dc7b18bddc8fd811ee9a41c70a.1000x1000x1.jpg', 'id': 1167470, 'instrumental': False, 'lyrics_owner_id': 1549345, 'lyrics_state': 'complete', 'lyrics_updated_at': 1429678083, 'path': '/Albert-collins-honey-hush-talking-woman-blues-lyrics', 'primary_artist_names': 'Albert Collins', 'pyongs_count': None, 'relationships_index_url': 'https://genius.com/Albert-collins-honey-hush-talking-woman-blues-sample', 'release_date_components': None, 'release_date_for_display': None, 'release_date_with_abbreviated_month_for_display': None, 'song_art_image_thumbnail_url': 'https://images.genius.com/c30426dc7b18bddc8fd811ee9a41c70a.300x300x1.jpg', 'song_art_image_url': 'https://images.genius.com/c30426dc7b18bddc8fd811ee9a41c70a.1000x1000x1.jpg', 'stats': {'unreviewed_annotations': 0, 'hot': False}, 'title': 'Honey Hush! (Talking Woman Blues)', 'title_with_featured': 'Honey Hush! (Talking Woman Blues)', 'updated_by_human_at': 1437428029, 'url': 'https://genius.com/Albert-collins-honey-hush-talking-woman-blues-lyrics', 'featured_artists': [], 'primary_artist': {'_type': 'artist', 'api_path': '/artists/348886', 'header_image_url': 'https://images.genius.com/ba0c3a900db35f9e8ec1ae49aca1a5c6.245x190x38.gif', 'id': 348886, 'image_url': 'https://images.genius.com/c30426dc7b18bddc8fd811ee9a41c70a.1000x1000x1.jpg', 'index_character': 'a', 'is_meme_verified': False, 'is_verified': False, 'name': 'Albert Collins', 'slug': 'Albert-collins', 'url': 'https://genius.com/artists/Albert-collins'}, 'primary_artists': [{'_type': 'artist', 'api_path': '/artists/348886', 'header_image_url': 'https://images.genius.com/ba0c3a900db35f9e8ec1ae49aca1a5c6.245x190x38.gif', 'id': 348886, 'image_url': 'https://images.genius.com/c30426dc7b18bddc8fd811ee9a41c70a.1000x1000x1.jpg', 'index_character': 'a', 'is_meme_verified': False, 'is_verified': False, 'name': 'Albert Collins', 'slug': 'Albert-collins', 'url': 'https://genius.com/artists/Albert-collins'}]}, {'_type': 'song', 'annotation_count': 1, 'api_path': '/songs/1694920', 'artist_names': 'Albert Collins', 'full_title': 'Hooked on You by\\xa0Albert\\xa0Collins', 'header_image_thumbnail_url': 'https://images.genius.com/4c4fef8769bbba21dbcdd3bd643ee421.300x302x1.jpg', 'header_image_url': 'https://images.genius.com/4c4fef8769bbba21dbcdd3bd643ee421.500x503x1.jpg', 'id': 1694920, 'instrumental': False, 'lyrics_owner_id': 1549345, 'lyrics_state': 'complete', 'lyrics_updated_at': 1429904336, 'path': '/Albert-collins-hooked-on-you-lyrics', 'primary_artist_names': 'Albert Collins', 'pyongs_count': None, 'relationships_index_url': 'https://genius.com/Albert-collins-hooked-on-you-sample', 'release_date_components': None, 'release_date_for_display': None, 'release_date_with_abbreviated_month_for_display': None, 'song_art_image_thumbnail_url': 'https://images.genius.com/4c4fef8769bbba21dbcdd3bd643ee421.300x302x1.jpg', 'song_art_image_url': 'https://images.genius.com/4c4fef8769bbba21dbcdd3bd643ee421.500x503x1.jpg', 'stats': {'unreviewed_annotations': 0, 'hot': False}, 'title': 'Hooked on You', 'title_with_featured': 'Hooked on You', 'updated_by_human_at': 1473382699, 'url': 'https://genius.com/Albert-collins-hooked-on-you-lyrics', 'featured_artists': [], 'primary_artist': {'_type': 'artist', 'api_path': '/artists/348886', 'header_image_url': 'https://images.genius.com/ba0c3a900db35f9e8ec1ae49aca1a5c6.245x190x38.gif', 'id': 348886, 'image_url': 'https://images.genius.com/c30426dc7b18bddc8fd811ee9a41c70a.1000x1000x1.jpg', 'index_character': 'a', 'is_meme_verified': False, 'is_verified': False, 'name': 'Albert Collins', 'slug': 'Albert-collins', 'url': 'https://genius.com/artists/Albert-collins'}, 'primary_artists': [{'_type': 'artist', 'api_path': '/artists/348886', 'header_image_url': 'https://images.genius.com/ba0c3a900db35f9e8ec1ae49aca1a5c6.245x190x38.gif', 'id': 348886, 'image_url': 'https://images.genius.com/c30426dc7b18bddc8fd811ee9a41c70a.1000x1000x1.jpg', 'index_character': 'a', 'is_meme_verified': False, 'is_verified': False, 'name': 'Albert Collins', 'slug': 'Albert-collins', 'url': 'https://genius.com/artists/Albert-collins'}]}, {'_type': 'song', 'annotation_count': 1, 'api_path': '/songs/1479660', 'artist_names': 'Albert Collins', 'full_title': \"Hot 'N Cold by\\xa0Albert\\xa0Collins\", 'header_image_thumbnail_url': 'https://images.genius.com/3435faaad43c3c37cdef281d576b2046.300x300x1.jpg', 'header_image_url': 'https://images.genius.com/3435faaad43c3c37cdef281d576b2046.600x600x1.jpg', 'id': 1479660, 'instrumental': False, 'lyrics_owner_id': 1549345, 'lyrics_state': 'complete', 'lyrics_updated_at': 1429888556, 'path': '/Albert-collins-hot-n-cold-lyrics', 'primary_artist_names': 'Albert Collins', 'pyongs_count': None, 'relationships_index_url': 'https://genius.com/Albert-collins-hot-n-cold-sample', 'release_date_components': None, 'release_date_for_display': None, 'release_date_with_abbreviated_month_for_display': None, 'song_art_image_thumbnail_url': 'https://images.genius.com/3435faaad43c3c37cdef281d576b2046.300x300x1.jpg', 'song_art_image_url': 'https://images.genius.com/3435faaad43c3c37cdef281d576b2046.600x600x1.jpg', 'stats': {'unreviewed_annotations': 0, 'hot': False}, 'title': 'Hot ’N Cold', 'title_with_featured': \"Hot 'N Cold\", 'updated_by_human_at': 1477004052, 'url': 'https://genius.com/Albert-collins-hot-n-cold-lyrics', 'featured_artists': [], 'primary_artist': {'_type': 'artist', 'api_path': '/artists/348886', 'header_image_url': 'https://images.genius.com/ba0c3a900db35f9e8ec1ae49aca1a5c6.245x190x38.gif', 'id': 348886, 'image_url': 'https://images.genius.com/c30426dc7b18bddc8fd811ee9a41c70a.1000x1000x1.jpg', 'index_character': 'a', 'is_meme_verified': False, 'is_verified': False, 'name': 'Albert Collins', 'slug': 'Albert-collins', 'url': 'https://genius.com/artists/Albert-collins'}, 'primary_artists': [{'_type': 'artist', 'api_path': '/artists/348886', 'header_image_url': 'https://images.genius.com/ba0c3a900db35f9e8ec1ae49aca1a5c6.245x190x38.gif', 'id': 348886, 'image_url': 'https://images.genius.com/c30426dc7b18bddc8fd811ee9a41c70a.1000x1000x1.jpg', 'index_character': 'a', 'is_meme_verified': False, 'is_verified': False, 'name': 'Albert Collins', 'slug': 'Albert-collins', 'url': 'https://genius.com/artists/Albert-collins'}]}, {'_type': 'song', 'annotation_count': 1, 'api_path': '/songs/1484329', 'artist_names': 'Albert Collins', 'full_title': \"I Ain't Drunk by\\xa0Albert\\xa0Collins\", 'header_image_thumbnail_url': 'https://images.genius.com/016d9770f28d32354d7568b0eac13e53.300x300x1.jpg', 'header_image_url': 'https://images.genius.com/016d9770f28d32354d7568b0eac13e53.300x300x1.jpg', 'id': 1484329, 'instrumental': False, 'lyrics_owner_id': 1549345, 'lyrics_state': 'complete', 'lyrics_updated_at': 1429889896, 'path': '/Albert-collins-i-aint-drunk-lyrics', 'primary_artist_names': 'Albert Collins', 'pyongs_count': None, 'relationships_index_url': 'https://genius.com/Albert-collins-i-aint-drunk-sample', 'release_date_components': None, 'release_date_for_display': None, 'release_date_with_abbreviated_month_for_display': None, 'song_art_image_thumbnail_url': 'https://images.genius.com/016d9770f28d32354d7568b0eac13e53.300x300x1.jpg', 'song_art_image_url': 'https://images.genius.com/016d9770f28d32354d7568b0eac13e53.300x300x1.jpg', 'stats': {'unreviewed_annotations': 1, 'hot': False, 'pageviews': 6537}, 'title': 'I Ain’t Drunk', 'title_with_featured': \"I Ain't Drunk\", 'updated_by_human_at': 1692888733, 'url': 'https://genius.com/Albert-collins-i-aint-drunk-lyrics', 'featured_artists': [], 'primary_artist': {'_type': 'artist', 'api_path': '/artists/348886', 'header_image_url': 'https://images.genius.com/ba0c3a900db35f9e8ec1ae49aca1a5c6.245x190x38.gif', 'id': 348886, 'image_url': 'https://images.genius.com/c30426dc7b18bddc8fd811ee9a41c70a.1000x1000x1.jpg', 'index_character': 'a', 'is_meme_verified': False, 'is_verified': False, 'name': 'Albert Collins', 'slug': 'Albert-collins', 'url': 'https://genius.com/artists/Albert-collins'}, 'primary_artists': [{'_type': 'artist', 'api_path': '/artists/348886', 'header_image_url': 'https://images.genius.com/ba0c3a900db35f9e8ec1ae49aca1a5c6.245x190x38.gif', 'id': 348886, 'image_url': 'https://images.genius.com/c30426dc7b18bddc8fd811ee9a41c70a.1000x1000x1.jpg', 'index_character': 'a', 'is_meme_verified': False, 'is_verified': False, 'name': 'Albert Collins', 'slug': 'Albert-collins', 'url': 'https://genius.com/artists/Albert-collins'}]}, {'_type': 'song', 'annotation_count': 1, 'api_path': '/songs/1135840', 'artist_names': 'Albert Collins', 'full_title': 'Iceman by\\xa0Albert\\xa0Collins', 'header_image_thumbnail_url': 'https://images.genius.com/c30426dc7b18bddc8fd811ee9a41c70a.300x300x1.jpg', 'header_image_url': 'https://images.genius.com/c30426dc7b18bddc8fd811ee9a41c70a.1000x1000x1.jpg', 'id': 1135840, 'instrumental': False, 'lyrics_owner_id': 1549345, 'lyrics_state': 'complete', 'lyrics_updated_at': 1473871308, 'path': '/Albert-collins-iceman-lyrics', 'primary_artist_names': 'Albert Collins', 'pyongs_count': None, 'relationships_index_url': 'https://genius.com/Albert-collins-iceman-sample', 'release_date_components': None, 'release_date_for_display': None, 'release_date_with_abbreviated_month_for_display': None, 'song_art_image_thumbnail_url': 'https://images.genius.com/c30426dc7b18bddc8fd811ee9a41c70a.300x300x1.jpg', 'song_art_image_url': 'https://images.genius.com/c30426dc7b18bddc8fd811ee9a41c70a.1000x1000x1.jpg', 'stats': {'unreviewed_annotations': 0, 'hot': False}, 'title': 'Iceman', 'title_with_featured': 'Iceman', 'updated_by_human_at': 1473871308, 'url': 'https://genius.com/Albert-collins-iceman-lyrics', 'featured_artists': [], 'primary_artist': {'_type': 'artist', 'api_path': '/artists/348886', 'header_image_url': 'https://images.genius.com/ba0c3a900db35f9e8ec1ae49aca1a5c6.245x190x38.gif', 'id': 348886, 'image_url': 'https://images.genius.com/c30426dc7b18bddc8fd811ee9a41c70a.1000x1000x1.jpg', 'index_character': 'a', 'is_meme_verified': False, 'is_verified': False, 'name': 'Albert Collins', 'slug': 'Albert-collins', 'url': 'https://genius.com/artists/Albert-collins'}, 'primary_artists': [{'_type': 'artist', 'api_path': '/artists/348886', 'header_image_url': 'https://images.genius.com/ba0c3a900db35f9e8ec1ae49aca1a5c6.245x190x38.gif', 'id': 348886, 'image_url': 'https://images.genius.com/c30426dc7b18bddc8fd811ee9a41c70a.1000x1000x1.jpg', 'index_character': 'a', 'is_meme_verified': False, 'is_verified': False, 'name': 'Albert Collins', 'slug': 'Albert-collins', 'url': 'https://genius.com/artists/Albert-collins'}]}, {'_type': 'song', 'annotation_count': 0, 'api_path': '/songs/4203762', 'artist_names': 'Albert Collins', 'full_title': 'Ice Pick by\\xa0Albert\\xa0Collins', 'header_image_thumbnail_url': 'https://images.genius.com/9d0b08d8d63dfbf7c32d8af3210a2fa6.300x293x1.jpg', 'header_image_url': 'https://images.genius.com/9d0b08d8d63dfbf7c32d8af3210a2fa6.561x547x1.jpg', 'id': 4203762, 'instrumental': True, 'lyrics_owner_id': 4124339, 'lyrics_state': 'complete', 'lyrics_updated_at': 1547082479, 'path': '/Albert-collins-ice-pick-lyrics', 'primary_artist_names': 'Albert Collins', 'pyongs_count': None, 'relationships_index_url': 'https://genius.com/Albert-collins-ice-pick-sample', 'release_date_components': None, 'release_date_for_display': None, 'release_date_with_abbreviated_month_for_display': None, 'song_art_image_thumbnail_url': 'https://images.genius.com/9d0b08d8d63dfbf7c32d8af3210a2fa6.300x293x1.jpg', 'song_art_image_url': 'https://images.genius.com/9d0b08d8d63dfbf7c32d8af3210a2fa6.561x547x1.jpg', 'stats': {'unreviewed_annotations': 0, 'hot': False}, 'title': 'Ice Pick', 'title_with_featured': 'Ice Pick', 'updated_by_human_at': 1547082479, 'url': 'https://genius.com/Albert-collins-ice-pick-lyrics', 'featured_artists': [], 'primary_artist': {'_type': 'artist', 'api_path': '/artists/348886', 'header_image_url': 'https://images.genius.com/ba0c3a900db35f9e8ec1ae49aca1a5c6.245x190x38.gif', 'id': 348886, 'image_url': 'https://images.genius.com/c30426dc7b18bddc8fd811ee9a41c70a.1000x1000x1.jpg', 'index_character': 'a', 'is_meme_verified': False, 'is_verified': False, 'name': 'Albert Collins', 'slug': 'Albert-collins', 'url': 'https://genius.com/artists/Albert-collins'}, 'primary_artists': [{'_type': 'artist', 'api_path': '/artists/348886', 'header_image_url': 'https://images.genius.com/ba0c3a900db35f9e8ec1ae49aca1a5c6.245x190x38.gif', 'id': 348886, 'image_url': 'https://images.genius.com/c30426dc7b18bddc8fd811ee9a41c70a.1000x1000x1.jpg', 'index_character': 'a', 'is_meme_verified': False, 'is_verified': False, 'name': 'Albert Collins', 'slug': 'Albert-collins', 'url': 'https://genius.com/artists/Albert-collins'}]}, {'_type': 'song', 'annotation_count': 1, 'api_path': '/songs/1047451', 'artist_names': 'Mint Condition (Ft. Albert Collins)', 'full_title': 'If Trouble Was Money by\\xa0Mint\\xa0Condition (Ft.\\xa0Albert\\xa0Collins)', 'header_image_thumbnail_url': 'https://images.genius.com/29f52c509024bb0019819e4d265f9440.300x298x1.jpg', 'header_image_url': 'https://images.genius.com/29f52c509024bb0019819e4d265f9440.500x496x1.jpg', 'id': 1047451, 'instrumental': False, 'lyrics_owner_id': 1549345, 'lyrics_state': 'complete', 'lyrics_updated_at': 1429603401, 'path': '/Mint-condition-if-trouble-was-money-lyrics', 'primary_artist_names': 'Mint Condition', 'pyongs_count': None, 'relationships_index_url': 'https://genius.com/Mint-condition-if-trouble-was-money-sample', 'release_date_components': None, 'release_date_for_display': None, 'release_date_with_abbreviated_month_for_display': None, 'song_art_image_thumbnail_url': 'https://images.genius.com/29f52c509024bb0019819e4d265f9440.300x298x1.jpg', 'song_art_image_url': 'https://images.genius.com/29f52c509024bb0019819e4d265f9440.500x496x1.jpg', 'stats': {'unreviewed_annotations': 0, 'hot': False}, 'title': 'If Trouble Was Money', 'title_with_featured': 'If Trouble Was Money (Ft.\\xa0Albert\\xa0Collins)', 'updated_by_human_at': 1645536802, 'url': 'https://genius.com/Mint-condition-if-trouble-was-money-lyrics', 'featured_artists': [{'_type': 'artist', 'api_path': '/artists/348886', 'header_image_url': 'https://images.genius.com/ba0c3a900db35f9e8ec1ae49aca1a5c6.245x190x38.gif', 'id': 348886, 'image_url': 'https://images.genius.com/c30426dc7b18bddc8fd811ee9a41c70a.1000x1000x1.jpg', 'index_character': 'a', 'is_meme_verified': False, 'is_verified': False, 'name': 'Albert Collins', 'slug': 'Albert-collins', 'url': 'https://genius.com/artists/Albert-collins'}], 'primary_artist': {'_type': 'artist', 'api_path': '/artists/40945', 'header_image_url': 'https://images.genius.com/1888de265ff1fc28a69638f8f1c82a35.430x430x1.jpg', 'id': 40945, 'image_url': 'https://images.genius.com/1888de265ff1fc28a69638f8f1c82a35.430x430x1.jpg', 'index_character': 'm', 'is_meme_verified': False, 'is_verified': False, 'name': 'Mint Condition', 'slug': 'Mint-condition', 'url': 'https://genius.com/artists/Mint-condition'}, 'primary_artists': [{'_type': 'artist', 'api_path': '/artists/40945', 'header_image_url': 'https://images.genius.com/1888de265ff1fc28a69638f8f1c82a35.430x430x1.jpg', 'id': 40945, 'image_url': 'https://images.genius.com/1888de265ff1fc28a69638f8f1c82a35.430x430x1.jpg', 'index_character': 'm', 'is_meme_verified': False, 'is_verified': False, 'name': 'Mint Condition', 'slug': 'Mint-condition', 'url': 'https://genius.com/artists/Mint-condition'}]}, {'_type': 'song', 'annotation_count': 1, 'api_path': '/songs/1459740', 'artist_names': 'Albert Collins', 'full_title': 'If You Love Me Like You Say by\\xa0Albert\\xa0Collins', 'header_image_thumbnail_url': 'https://images.genius.com/c4bab6588e549f2517c894c387c0ad27.300x300x1.jpg', 'header_image_url': 'https://images.genius.com/c4bab6588e549f2517c894c387c0ad27.316x316x1.jpg', 'id': 1459740, 'instrumental': False, 'lyrics_owner_id': 1549345, 'lyrics_state': 'complete', 'lyrics_updated_at': 1429854480, 'path': '/Albert-collins-if-you-love-me-like-you-say-lyrics', 'primary_artist_names': 'Albert Collins', 'pyongs_count': None, 'relationships_index_url': 'https://genius.com/Albert-collins-if-you-love-me-like-you-say-sample', 'release_date_components': None, 'release_date_for_display': None, 'release_date_with_abbreviated_month_for_display': None, 'song_art_image_thumbnail_url': 'https://images.genius.com/c4bab6588e549f2517c894c387c0ad27.300x300x1.jpg', 'song_art_image_url': 'https://images.genius.com/c4bab6588e549f2517c894c387c0ad27.316x316x1.jpg', 'stats': {'unreviewed_annotations': 0, 'hot': False}, 'title': 'If You Love Me Like You Say', 'title_with_featured': 'If You Love Me Like You Say', 'updated_by_human_at': 1692888838, 'url': 'https://genius.com/Albert-collins-if-you-love-me-like-you-say-lyrics', 'featured_artists': [], 'primary_artist': {'_type': 'artist', 'api_path': '/artists/348886', 'header_image_url': 'https://images.genius.com/ba0c3a900db35f9e8ec1ae49aca1a5c6.245x190x38.gif', 'id': 348886, 'image_url': 'https://images.genius.com/c30426dc7b18bddc8fd811ee9a41c70a.1000x1000x1.jpg', 'index_character': 'a', 'is_meme_verified': False, 'is_verified': False, 'name': 'Albert Collins', 'slug': 'Albert-collins', 'url': 'https://genius.com/artists/Albert-collins'}, 'primary_artists': [{'_type': 'artist', 'api_path': '/artists/348886', 'header_image_url': 'https://images.genius.com/ba0c3a900db35f9e8ec1ae49aca1a5c6.245x190x38.gif', 'id': 348886, 'image_url': 'https://images.genius.com/c30426dc7b18bddc8fd811ee9a41c70a.1000x1000x1.jpg', 'index_character': 'a', 'is_meme_verified': False, 'is_verified': False, 'name': 'Albert Collins', 'slug': 'Albert-collins', 'url': 'https://genius.com/artists/Albert-collins'}]}, {'_type': 'song', 'annotation_count': 1, 'api_path': '/songs/1140638', 'artist_names': 'Albert Collins', 'full_title': 'I Got A Problem by\\xa0Albert\\xa0Collins', 'header_image_thumbnail_url': 'https://images.genius.com/c4bab6588e549f2517c894c387c0ad27.300x300x1.jpg', 'header_image_url': 'https://images.genius.com/c4bab6588e549f2517c894c387c0ad27.316x316x1.jpg', 'id': 1140638, 'instrumental': False, 'lyrics_owner_id': 1549345, 'lyrics_state': 'complete', 'lyrics_updated_at': 1429663472, 'path': '/Albert-collins-i-got-a-problem-lyrics', 'primary_artist_names': 'Albert Collins', 'pyongs_count': None, 'relationships_index_url': 'https://genius.com/Albert-collins-i-got-a-problem-sample', 'release_date_components': None, 'release_date_for_display': None, 'release_date_with_abbreviated_month_for_display': None, 'song_art_image_thumbnail_url': 'https://images.genius.com/c4bab6588e549f2517c894c387c0ad27.300x300x1.jpg', 'song_art_image_url': 'https://images.genius.com/c4bab6588e549f2517c894c387c0ad27.316x316x1.jpg', 'stats': {'unreviewed_annotations': 0, 'hot': False}, 'title': 'I Got A Problem', 'title_with_featured': 'I Got A Problem', 'updated_by_human_at': 1473368803, 'url': 'https://genius.com/Albert-collins-i-got-a-problem-lyrics', 'featured_artists': [], 'primary_artist': {'_type': 'artist', 'api_path': '/artists/348886', 'header_image_url': 'https://images.genius.com/ba0c3a900db35f9e8ec1ae49aca1a5c6.245x190x38.gif', 'id': 348886, 'image_url': 'https://images.genius.com/c30426dc7b18bddc8fd811ee9a41c70a.1000x1000x1.jpg', 'index_character': 'a', 'is_meme_verified': False, 'is_verified': False, 'name': 'Albert Collins', 'slug': 'Albert-collins', 'url': 'https://genius.com/artists/Albert-collins'}, 'primary_artists': [{'_type': 'artist', 'api_path': '/artists/348886', 'header_image_url': 'https://images.genius.com/ba0c3a900db35f9e8ec1ae49aca1a5c6.245x190x38.gif', 'id': 348886, 'image_url': 'https://images.genius.com/c30426dc7b18bddc8fd811ee9a41c70a.1000x1000x1.jpg', 'index_character': 'a', 'is_meme_verified': False, 'is_verified': False, 'name': 'Albert Collins', 'slug': 'Albert-collins', 'url': 'https://genius.com/artists/Albert-collins'}]}, {'_type': 'song', 'annotation_count': 0, 'api_path': '/songs/5484339', 'artist_names': 'John Mayall (Ft. Albert Collins)', 'full_title': 'I’m a Sucker for Love by\\xa0John\\xa0Mayall (Ft.\\xa0Albert\\xa0Collins)', 'header_image_thumbnail_url': 'https://images.genius.com/22c79741a8cc49169862e0a750a203d1.300x300x1.jpg', 'header_image_url': 'https://images.genius.com/22c79741a8cc49169862e0a750a203d1.500x500x1.jpg', 'id': 5484339, 'instrumental': False, 'lyrics_owner_id': 8613973, 'lyrics_state': 'complete', 'lyrics_updated_at': 1603799311, 'path': '/John-mayall-im-a-sucker-for-love-lyrics', 'primary_artist_names': 'John Mayall', 'pyongs_count': None, 'relationships_index_url': 'https://genius.com/John-mayall-im-a-sucker-for-love-sample', 'release_date_components': {'year': 1993, 'month': 4, 'day': 6}, 'release_date_for_display': 'April 6, 1993', 'release_date_with_abbreviated_month_for_display': 'Apr. 6, 1993', 'song_art_image_thumbnail_url': 'https://images.genius.com/22c79741a8cc49169862e0a750a203d1.300x300x1.jpg', 'song_art_image_url': 'https://images.genius.com/22c79741a8cc49169862e0a750a203d1.500x500x1.jpg', 'stats': {'unreviewed_annotations': 0, 'hot': False}, 'title': 'I’m a Sucker for Love', 'title_with_featured': 'I’m a Sucker for Love (Ft.\\xa0Albert\\xa0Collins)', 'updated_by_human_at': 1603799844, 'url': 'https://genius.com/John-mayall-im-a-sucker-for-love-lyrics', 'featured_artists': [{'_type': 'artist', 'api_path': '/artists/348886', 'header_image_url': 'https://images.genius.com/ba0c3a900db35f9e8ec1ae49aca1a5c6.245x190x38.gif', 'id': 348886, 'image_url': 'https://images.genius.com/c30426dc7b18bddc8fd811ee9a41c70a.1000x1000x1.jpg', 'index_character': 'a', 'is_meme_verified': False, 'is_verified': False, 'name': 'Albert Collins', 'slug': 'Albert-collins', 'url': 'https://genius.com/artists/Albert-collins'}], 'primary_artist': {'_type': 'artist', 'api_path': '/artists/37190', 'header_image_url': 'https://images.genius.com/6c8c07ce3796ef06af9eb2e7aea96077.1000x729x1.jpg', 'id': 37190, 'image_url': 'https://images.genius.com/70b145f236f254d6717de02e3b748690.600x600x1.jpg', 'index_character': 'j', 'is_meme_verified': False, 'is_verified': False, 'name': 'John Mayall', 'slug': 'John-mayall', 'url': 'https://genius.com/artists/John-mayall'}, 'primary_artists': [{'_type': 'artist', 'api_path': '/artists/37190', 'header_image_url': 'https://images.genius.com/6c8c07ce3796ef06af9eb2e7aea96077.1000x729x1.jpg', 'id': 37190, 'image_url': 'https://images.genius.com/70b145f236f254d6717de02e3b748690.600x600x1.jpg', 'index_character': 'j', 'is_meme_verified': False, 'is_verified': False, 'name': 'John Mayall', 'slug': 'John-mayall', 'url': 'https://genius.com/artists/John-mayall'}]}, {'_type': 'song', 'annotation_count': 1, 'api_path': '/songs/985096', 'artist_names': 'Albert Collins', 'full_title': \"I'm Beginning to Wonder by\\xa0Albert\\xa0Collins\", 'header_image_thumbnail_url': 'https://images.genius.com/637db3ec8e9d66786ed1b22f9b8dfe3d.300x300x1.jpg', 'header_image_url': 'https://images.genius.com/637db3ec8e9d66786ed1b22f9b8dfe3d.945x945x1.jpg', 'id': 985096, 'instrumental': False, 'lyrics_owner_id': 1549345, 'lyrics_state': 'complete', 'lyrics_updated_at': 1429573196, 'path': '/Albert-collins-im-beginning-to-wonder-lyrics', 'primary_artist_names': 'Albert Collins', 'pyongs_count': None, 'relationships_index_url': 'https://genius.com/Albert-collins-im-beginning-to-wonder-sample', 'release_date_components': None, 'release_date_for_display': None, 'release_date_with_abbreviated_month_for_display': None, 'song_art_image_thumbnail_url': 'https://images.genius.com/637db3ec8e9d66786ed1b22f9b8dfe3d.300x300x1.jpg', 'song_art_image_url': 'https://images.genius.com/637db3ec8e9d66786ed1b22f9b8dfe3d.945x945x1.jpg', 'stats': {'unreviewed_annotations': 0, 'hot': False}, 'title': 'I’m Beginning to Wonder', 'title_with_featured': \"I'm Beginning to Wonder\", 'updated_by_human_at': 1476751513, 'url': 'https://genius.com/Albert-collins-im-beginning-to-wonder-lyrics', 'featured_artists': [], 'primary_artist': {'_type': 'artist', 'api_path': '/artists/348886', 'header_image_url': 'https://images.genius.com/ba0c3a900db35f9e8ec1ae49aca1a5c6.245x190x38.gif', 'id': 348886, 'image_url': 'https://images.genius.com/c30426dc7b18bddc8fd811ee9a41c70a.1000x1000x1.jpg', 'index_character': 'a', 'is_meme_verified': False, 'is_verified': False, 'name': 'Albert Collins', 'slug': 'Albert-collins', 'url': 'https://genius.com/artists/Albert-collins'}, 'primary_artists': [{'_type': 'artist', 'api_path': '/artists/348886', 'header_image_url': 'https://images.genius.com/ba0c3a900db35f9e8ec1ae49aca1a5c6.245x190x38.gif', 'id': 348886, 'image_url': 'https://images.genius.com/c30426dc7b18bddc8fd811ee9a41c70a.1000x1000x1.jpg', 'index_character': 'a', 'is_meme_verified': False, 'is_verified': False, 'name': 'Albert Collins', 'slug': 'Albert-collins', 'url': 'https://genius.com/artists/Albert-collins'}]}, {'_type': 'song', 'annotation_count': 1, 'api_path': '/songs/1323086', 'artist_names': 'Albert Collins', 'full_title': 'I Need You So by\\xa0Albert\\xa0Collins', 'header_image_thumbnail_url': 'https://images.genius.com/45841cfa717371caa64452517e547ee0.300x300x1.jpg', 'header_image_url': 'https://images.genius.com/45841cfa717371caa64452517e547ee0.480x480x1.jpg', 'id': 1323086, 'instrumental': False, 'lyrics_owner_id': 1549345, 'lyrics_state': 'complete', 'lyrics_updated_at': 1429764499, 'path': '/Albert-collins-i-need-you-so-lyrics', 'primary_artist_names': 'Albert Collins', 'pyongs_count': None, 'relationships_index_url': 'https://genius.com/Albert-collins-i-need-you-so-sample', 'release_date_components': None, 'release_date_for_display': None, 'release_date_with_abbreviated_month_for_display': None, 'song_art_image_thumbnail_url': 'https://images.genius.com/45841cfa717371caa64452517e547ee0.300x300x1.jpg', 'song_art_image_url': 'https://images.genius.com/45841cfa717371caa64452517e547ee0.480x480x1.jpg', 'stats': {'unreviewed_annotations': 0, 'hot': False}, 'title': 'I Need You So', 'title_with_featured': 'I Need You So', 'updated_by_human_at': 1479243640, 'url': 'https://genius.com/Albert-collins-i-need-you-so-lyrics', 'featured_artists': [], 'primary_artist': {'_type': 'artist', 'api_path': '/artists/348886', 'header_image_url': 'https://images.genius.com/ba0c3a900db35f9e8ec1ae49aca1a5c6.245x190x38.gif', 'id': 348886, 'image_url': 'https://images.genius.com/c30426dc7b18bddc8fd811ee9a41c70a.1000x1000x1.jpg', 'index_character': 'a', 'is_meme_verified': False, 'is_verified': False, 'name': 'Albert Collins', 'slug': 'Albert-collins', 'url': 'https://genius.com/artists/Albert-collins'}, 'primary_artists': [{'_type': 'artist', 'api_path': '/artists/348886', 'header_image_url': 'https://images.genius.com/ba0c3a900db35f9e8ec1ae49aca1a5c6.245x190x38.gif', 'id': 348886, 'image_url': 'https://images.genius.com/c30426dc7b18bddc8fd811ee9a41c70a.1000x1000x1.jpg', 'index_character': 'a', 'is_meme_verified': False, 'is_verified': False, 'name': 'Albert Collins', 'slug': 'Albert-collins', 'url': 'https://genius.com/artists/Albert-collins'}]}, {'_type': 'song', 'annotation_count': 1, 'api_path': '/songs/918951', 'artist_names': 'Albert Collins', 'full_title': \"I've Got A Mind To Travel by\\xa0Albert\\xa0Collins\", 'header_image_thumbnail_url': 'https://images.genius.com/c30426dc7b18bddc8fd811ee9a41c70a.300x300x1.jpg', 'header_image_url': 'https://images.genius.com/c30426dc7b18bddc8fd811ee9a41c70a.1000x1000x1.jpg', 'id': 918951, 'instrumental': False, 'lyrics_owner_id': 1549345, 'lyrics_state': 'complete', 'lyrics_updated_at': 1429536814, 'path': '/Albert-collins-ive-got-a-mind-to-travel-lyrics', 'primary_artist_names': 'Albert Collins', 'pyongs_count': None, 'relationships_index_url': 'https://genius.com/Albert-collins-ive-got-a-mind-to-travel-sample', 'release_date_components': None, 'release_date_for_display': None, 'release_date_with_abbreviated_month_for_display': None, 'song_art_image_thumbnail_url': 'https://images.genius.com/c30426dc7b18bddc8fd811ee9a41c70a.300x300x1.jpg', 'song_art_image_url': 'https://images.genius.com/c30426dc7b18bddc8fd811ee9a41c70a.1000x1000x1.jpg', 'stats': {'unreviewed_annotations': 0, 'hot': False}, 'title': 'I’ve Got A Mind To Travel', 'title_with_featured': \"I've Got A Mind To Travel\", 'updated_by_human_at': 1473286019, 'url': 'https://genius.com/Albert-collins-ive-got-a-mind-to-travel-lyrics', 'featured_artists': [], 'primary_artist': {'_type': 'artist', 'api_path': '/artists/348886', 'header_image_url': 'https://images.genius.com/ba0c3a900db35f9e8ec1ae49aca1a5c6.245x190x38.gif', 'id': 348886, 'image_url': 'https://images.genius.com/c30426dc7b18bddc8fd811ee9a41c70a.1000x1000x1.jpg', 'index_character': 'a', 'is_meme_verified': False, 'is_verified': False, 'name': 'Albert Collins', 'slug': 'Albert-collins', 'url': 'https://genius.com/artists/Albert-collins'}, 'primary_artists': [{'_type': 'artist', 'api_path': '/artists/348886', 'header_image_url': 'https://images.genius.com/ba0c3a900db35f9e8ec1ae49aca1a5c6.245x190x38.gif', 'id': 348886, 'image_url': 'https://images.genius.com/c30426dc7b18bddc8fd811ee9a41c70a.1000x1000x1.jpg', 'index_character': 'a', 'is_meme_verified': False, 'is_verified': False, 'name': 'Albert Collins', 'slug': 'Albert-collins', 'url': 'https://genius.com/artists/Albert-collins'}]}, {'_type': 'song', 'annotation_count': 1, 'api_path': '/songs/1682830', 'artist_names': 'Albert Collins', 'full_title': 'Jam it Up by\\xa0Albert\\xa0Collins', 'header_image_thumbnail_url': 'https://images.genius.com/45841cfa717371caa64452517e547ee0.300x300x1.jpg', 'header_image_url': 'https://images.genius.com/45841cfa717371caa64452517e547ee0.480x480x1.jpg', 'id': 1682830, 'instrumental': False, 'lyrics_owner_id': 1549345, 'lyrics_state': 'complete', 'lyrics_updated_at': 1429903684, 'path': '/Albert-collins-jam-it-up-lyrics', 'primary_artist_names': 'Albert Collins', 'pyongs_count': None, 'relationships_index_url': 'https://genius.com/Albert-collins-jam-it-up-sample', 'release_date_components': None, 'release_date_for_display': None, 'release_date_with_abbreviated_month_for_display': None, 'song_art_image_thumbnail_url': 'https://images.genius.com/45841cfa717371caa64452517e547ee0.300x300x1.jpg', 'song_art_image_url': 'https://images.genius.com/45841cfa717371caa64452517e547ee0.480x480x1.jpg', 'stats': {'unreviewed_annotations': 0, 'hot': False}, 'title': 'Jam it Up', 'title_with_featured': 'Jam it Up', 'updated_by_human_at': 1476940166, 'url': 'https://genius.com/Albert-collins-jam-it-up-lyrics', 'featured_artists': [], 'primary_artist': {'_type': 'artist', 'api_path': '/artists/348886', 'header_image_url': 'https://images.genius.com/ba0c3a900db35f9e8ec1ae49aca1a5c6.245x190x38.gif', 'id': 348886, 'image_url': 'https://images.genius.com/c30426dc7b18bddc8fd811ee9a41c70a.1000x1000x1.jpg', 'index_character': 'a', 'is_meme_verified': False, 'is_verified': False, 'name': 'Albert Collins', 'slug': 'Albert-collins', 'url': 'https://genius.com/artists/Albert-collins'}, 'primary_artists': [{'_type': 'artist', 'api_path': '/artists/348886', 'header_image_url': 'https://images.genius.com/ba0c3a900db35f9e8ec1ae49aca1a5c6.245x190x38.gif', 'id': 348886, 'image_url': 'https://images.genius.com/c30426dc7b18bddc8fd811ee9a41c70a.1000x1000x1.jpg', 'index_character': 'a', 'is_meme_verified': False, 'is_verified': False, 'name': 'Albert Collins', 'slug': 'Albert-collins', 'url': 'https://genius.com/artists/Albert-collins'}]}, {'_type': 'song', 'annotation_count': 1, 'api_path': '/songs/2231766', 'artist_names': 'Joe Bonamassa', 'full_title': 'Left Overs by\\xa0Joe\\xa0Bonamassa', 'header_image_thumbnail_url': 'https://images.genius.com/2065c5c55e11188a58c8bf1972a3b9d6.300x300x1.jpg', 'header_image_url': 'https://images.genius.com/2065c5c55e11188a58c8bf1972a3b9d6.591x591x1.jpg', 'id': 2231766, 'instrumental': True, 'lyrics_owner_id': 1549345, 'lyrics_state': 'complete', 'lyrics_updated_at': 1635929731, 'path': '/Joe-bonamassa-left-overs-lyrics', 'primary_artist_names': 'Joe Bonamassa', 'pyongs_count': None, 'relationships_index_url': 'https://genius.com/Joe-bonamassa-left-overs-sample', 'release_date_components': {'year': 2003, 'month': 8, 'day': 26}, 'release_date_for_display': 'August 26, 2003', 'release_date_with_abbreviated_month_for_display': 'Aug. 26, 2003', 'song_art_image_thumbnail_url': 'https://images.genius.com/2065c5c55e11188a58c8bf1972a3b9d6.300x300x1.jpg', 'song_art_image_url': 'https://images.genius.com/2065c5c55e11188a58c8bf1972a3b9d6.591x591x1.jpg', 'stats': {'unreviewed_annotations': 0, 'hot': False}, 'title': 'Left Overs', 'title_with_featured': 'Left Overs', 'updated_by_human_at': 1635929784, 'url': 'https://genius.com/Joe-bonamassa-left-overs-lyrics', 'featured_artists': [], 'primary_artist': {'_type': 'artist', 'api_path': '/artists/331810', 'header_image_url': 'https://images.genius.com/fe03fb5a8568b3167b536c44b180fe7e.1000x750x1.jpg', 'id': 331810, 'image_url': 'https://images.genius.com/9d663703199a56bb4aa714cef28bdc39.524x524x1.jpg', 'index_character': 'j', 'is_meme_verified': False, 'is_verified': False, 'name': 'Joe Bonamassa', 'slug': 'Joe-bonamassa', 'url': 'https://genius.com/artists/Joe-bonamassa'}, 'primary_artists': [{'_type': 'artist', 'api_path': '/artists/331810', 'header_image_url': 'https://images.genius.com/fe03fb5a8568b3167b536c44b180fe7e.1000x750x1.jpg', 'id': 331810, 'image_url': 'https://images.genius.com/9d663703199a56bb4aa714cef28bdc39.524x524x1.jpg', 'index_character': 'j', 'is_meme_verified': False, 'is_verified': False, 'name': 'Joe Bonamassa', 'slug': 'Joe-bonamassa', 'url': 'https://genius.com/artists/Joe-bonamassa'}]}], 'next_page': 2}}\n"
     ]
    },
    {
     "data": {
      "text/plain": [
       "'https://genius.com/Albert-collins-ice-pick-lyrics'"
      ]
     },
     "execution_count": 36,
     "metadata": {},
     "output_type": "execute_result"
    }
   ],
   "source": [
    "lyrics_url = get_artist_song_lyrics_url(artist_id, \"Ice Pick\")\n",
    "lyrics_url"
   ]
  },
  {
   "cell_type": "code",
   "execution_count": 39,
   "metadata": {},
   "outputs": [
    {
     "name": "stdout",
     "output_type": "stream",
     "text": [
      "Album Name: None\n",
      "Song Name: Iceman\n",
      "Artist Name: Albert Collins\n",
      "\n",
      "Lyrics:\n",
      "\n",
      "I'm your iceman, baby, ain't here to cool you down\n",
      "Yes I'm your iceman, ladies, you'll always know when I'm around\n",
      "I left Leona, Texas, to heat this coolest place in town\n",
      "\n",
      "Gonna play this old guitar, mix up some fire with my ice\n",
      "Yes, I'm gonna play this old guitar, light your fire with my ice\n",
      "Sometimes it sounds so good to me, I just might play it twice\n",
      "\n",
      "I'm your iceman, baby, call me Al, if you please\n",
      "\n",
      "I'm your iceman, baby, I'm so hot I'll probably freeze\n",
      "I'm gonna whip up a twister, turn tornados to a breeze\n",
      "\n",
      "Yes, I'm your iceman, baby\n",
      "\n",
      "Yes, I'm your iceman, people, fixin' fire with my ice\n",
      "I'm your iceman, ladies, I make it hot an' chill it right\n",
      "If you follow my instructions, my ice will last all night\n"
     ]
    }
   ],
   "source": [
    "scraper = GeniusSongLyricsScraper(\"https://genius.com/Albert-collins-iceman-lyrics\")\n",
    "lyrics = scraper.extract_lyrics()\n",
    "song_name = scraper.extract_song_name()\n",
    "album_name = scraper.extract_album_name()\n",
    "artist_name = scraper.extract_artist_name()\n",
    "\n",
    "print(f\"Album Name: {album_name}\")\n",
    "print(f\"Song Name: {song_name}\")\n",
    "print(f\"Artist Name: {artist_name}\\n\")\n",
    "print(f\"Lyrics:\\n\\n{lyrics}\")"
   ]
  }
 ],
 "metadata": {
  "kernelspec": {
   "display_name": "Python 3",
   "language": "python",
   "name": "python3"
  },
  "language_info": {
   "codemirror_mode": {
    "name": "ipython",
    "version": 3
   },
   "file_extension": ".py",
   "mimetype": "text/x-python",
   "name": "python",
   "nbconvert_exporter": "python",
   "pygments_lexer": "ipython3",
   "version": "3.12.4"
  }
 },
 "nbformat": 4,
 "nbformat_minor": 2
}
